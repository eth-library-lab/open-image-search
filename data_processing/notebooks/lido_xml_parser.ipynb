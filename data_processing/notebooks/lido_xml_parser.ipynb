{
 "cells": [
  {
   "cell_type": "markdown",
   "id": "fb2438e0-9c66-4eb6-a34f-e15a49331a68",
   "metadata": {},
   "source": [
    "# parse lido file and extract elements"
   ]
  },
  {
   "cell_type": "code",
   "execution_count": 63,
   "id": "b9b04e5b-d1f5-46c3-b6af-b8e2a7075853",
   "metadata": {},
   "outputs": [],
   "source": [
    "import bs4 #beautifulSoup\n",
    "import os\n",
    "import re\n",
    "from pprint import pprint"
   ]
  },
  {
   "cell_type": "code",
   "execution_count": null,
   "id": "30cb3333-6722-4381-95cf-ea5d8e9acbf1",
   "metadata": {},
   "outputs": [],
   "source": []
  },
  {
   "cell_type": "markdown",
   "id": "3c580961-da03-4c62-b8b7-73bbddf12823",
   "metadata": {},
   "source": [
    "```\n",
    "recordID\n",
    "```\n",
    "<hr/>\n",
    "\n",
    "```\n",
    "<lido:recordID lido:type=http://terminology.lido-schema.org/lido00100 lido:source=https://culture.ld.admin.ch/isil/CH-000511-9>21566</lido:recordID>\n",
    "```\n"
   ]
  },
  {
   "cell_type": "markdown",
   "id": "c04e0c3c-9fb4-4ef6-a130-f9f98fb144fe",
   "metadata": {},
   "source": [
    "\timageURL\tinvNr\tperson\tdate\ttitle\tclassification\tmatTec\tinstitutionIsil\trecordURL\timageLicence\ttimestamp"
   ]
  },
  {
   "cell_type": "markdown",
   "id": "6b8666d7-a9e7-48b8-bc21-8b60c2fb0cfd",
   "metadata": {},
   "source": [
    "# Mapping Lido to imageSearch database fields"
   ]
  },
  {
   "cell_type": "markdown",
   "id": "eaa75234-4d17-477a-a753-c5d469139e93",
   "metadata": {},
   "source": [
    "Need to map lido to the fields in our database.  \n",
    "\n",
    "our db metadata fields are:\n",
    "\n",
    "```\n",
    "id | record_id | created_date | title | image_url | record_url | inventory_number | person | date | classification | material_technique | institution_isil | image_licence | year_min | year_max | classification_id_id | institution_isil_id_id\n",
    "```\n",
    "\n",
    "These correspond to the following Lido elements"
   ]
  },
  {
   "cell_type": "markdown",
   "id": "6c0a74aa-6626-47b4-91d9-3d732ac56e48",
   "metadata": {},
   "source": [
    "\n",
    "`record_id`\n",
    "\n",
    "```html\n",
    "<lido:recordID lido:type=http://terminology.lido-schema.org/lido00100 lido:source=https://culture.ld.admin.ch/isil/CH-000511-9>21566</lido:recordID>\n",
    "```"
   ]
  },
  {
   "cell_type": "markdown",
   "id": "10dda512-ace8-4e61-9de5-aa7d1e209d6c",
   "metadata": {},
   "source": [
    "\n",
    "`title`\n",
    "\n",
    "```html\n",
    "<lido:titleWrap>\n",
    "    <lido:titleSet>\n",
    "        <lido:appellationValue>Porträt von Albrecht Dürer dem Älteren</lido:appellationValue>\n",
    "    </lido:titleSet>\n",
    "</lido:titleWrap>\n",
    "```"
   ]
  },
  {
   "cell_type": "markdown",
   "id": "a34d3a10-0389-44c3-8460-fc37311b105c",
   "metadata": {},
   "source": [
    "`record_url`\n",
    "\n",
    "```html\n",
    "<lido:recordInfoLink>https://doi.org/10.16903/ethz-grs-D_008883</lido:recordInfoLink>\n",
    "```"
   ]
  },
  {
   "cell_type": "markdown",
   "id": "2336a547-069f-44a4-9e33-7c6fcd42a8d7",
   "metadata": {},
   "source": [
    "`person`\n",
    "\n",
    "```html\n",
    "<lido:displayActorInRole>Hollar, Wenzel (1607 - 1677)</lido:displayActorInRole>\n",
    " \n",
    "<lido:displayActorInRole>Dürer, Albrecht (1471 - 1528), nach</lido:displayActorInRole>\n",
    "```\n"
   ]
  },
  {
   "cell_type": "markdown",
   "id": "ad843f29-21b9-4953-963f-4864e7672cd4",
   "metadata": {},
   "source": [
    "\n",
    "`imageUrl`\n",
    "\n",
    "```html\n",
    "<lido:resourceRepresentation lido:type=http://terminology.lido-schema.org/lido00451>\n",
    "<lido:linkResource>https://e-gs.ethz.ch/eMP/eMuseumPlus?service=ImageAsset&amp;module=collection&amp;objectId=21566&amp;resolution=mediumImageResolution</lido:linkResource>\n",
    "</lido:resourceRepresentation>\n",
    "```"
   ]
  },
  {
   "cell_type": "markdown",
   "id": "e1ef8e6c-057d-4a9c-a6a6-68868f9721a4",
   "metadata": {},
   "source": [
    "`year_min`  `year_max`\n",
    "\n",
    "\n",
    "```html\n",
    "<lido:eventDate>\n",
    "    <lido:displayDate>1498</lido:displayDate>\n",
    "    <lido:date>\n",
    "        <lido:earliestDate>1498</lido:earliestDate>\n",
    "        <lido:latestDate>1498</lido:latestDate>\n",
    "    </lido:date>\n",
    "</lido:eventDate>\n",
    "```"
   ]
  },
  {
   "cell_type": "markdown",
   "id": "502b05c9-ff10-4370-b4fb-c549cfaca4e8",
   "metadata": {},
   "source": [
    "`classification`\n",
    "\n",
    "```html\n",
    "<lido:classification lido:type=\"Objektklassifikation\">\n",
    "<lido:conceptID lido:type=http://terminology.lido-schema.org/lido00099 lido:source=http://vocab.getty.edu/aat>http://vocab.getty.edu/aat/300041273</lido:conceptID>\n",
    "<lido:term>Druckgraphik</lido:term>\n",
    "</lido:classification>\n"
   ]
  },
  {
   "cell_type": "markdown",
   "id": "bfcd3229-7798-4faa-b36f-cedf0280e1fd",
   "metadata": {},
   "source": [
    "`image_licence`\n",
    "\n",
    "```html\n",
    "<lido:rightsResource>\n",
    "<lido:rightsType>\n",
    "<lido:conceptID lido:type=http://terminology.lido-schema.org/lido00099>https://creativecommons.org/publicdomain/zero/1.0/</lido:conceptID>\n",
    "<lido:term>CC0 1.0 Universal (CC0 1.0)</lido:term>\n",
    "</lido:rightsType>\n",
    "```"
   ]
  },
  {
   "cell_type": "markdown",
   "id": "22c8234a-914a-4573-9103-cbe7d76b2f93",
   "metadata": {},
   "source": [
    "`material_technique`\n",
    "\n",
    "```html\n",
    "<lido:displayMaterialsTech>Radierung</lido:displayMaterialsTech>\n",
    " \n",
    " \n",
    "<lido:termMaterialsTech lido:type=http://terminology.lido-schema.org/lido00132>\n",
    "<lido:conceptID lido:type=http://terminology.lido-schema.org/lido00099 lido:source=http://vocab.getty.edu/aat>http://vocab.getty.edu/aat/300053241</lido:conceptID>\n",
    "<lido:term>Radierung</lido:term>\n",
    "</lido:termMaterialsTech>\n",
    "```"
   ]
  },
  {
   "cell_type": "markdown",
   "id": "946f4a04-1008-45ca-85f1-adc3f84b7318",
   "metadata": {},
   "source": [
    "\n",
    "## functions"
   ]
  },
  {
   "cell_type": "code",
   "execution_count": 209,
   "id": "3d50d9b1-04cf-45dc-97a6-49b98b816a28",
   "metadata": {},
   "outputs": [],
   "source": [
    "def get_titles(object_identification_wrap: bs4.element.Tag):\n",
    "    \"\"\"\n",
    "    find list of titles for a given object\n",
    "    \"\"\"\n",
    "    \n",
    "    titles = []\n",
    "    for title_set in object_identification_wrap.find_all(\"lido:titleSet\"):\n",
    "        print(title_set.attrs)\n",
    "        title = title_set.find(\"lido:appellationValue\")\n",
    "        if title:\n",
    "            titles.append(title.text)\n",
    "            \n",
    "    return titles"
   ]
  },
  {
   "cell_type": "code",
   "execution_count": 210,
   "id": "bef1a13e-9d11-42c8-9cc9-f4b3c3690c4e",
   "metadata": {},
   "outputs": [],
   "source": [
    "def find_lido_element_text(lido: bs4.element.Tag, \n",
    "                            element_name:str) -> str:\n",
    "    \n",
    "    \"\"\"\n",
    "    generic function to a find an element from the given tag and return the innerText from the first found result\n",
    "    \"\"\"\n",
    "    \n",
    "    try:\n",
    "        text = lido.find(element_name).text\n",
    "\n",
    "    except Exception as E:\n",
    "        print(E)\n",
    "        text = None\n",
    "    \n",
    "    return text  \n",
    "    "
   ]
  },
  {
   "cell_type": "code",
   "execution_count": 211,
   "id": "548b25b4-6040-4fec-92f1-130175a9789b",
   "metadata": {},
   "outputs": [],
   "source": [
    "def get_lido_id(lido: bs4.element.Tag):\n",
    "    \"\"\"\n",
    "    <lido:lidoRecID lido:type=\"http://terminology.lido-schema.org/lido00100\" lido:source=\"http://ld.zdb-services.de/resource/organisations/DE-MUS-079214\">DE-MUS-079214/lido/05091715,T,001</lido:lidoRecID>\n",
    "    \"\"\" \n",
    "\n",
    "    try:\n",
    "        _id = lido.find(\"lido:lidoRecID\").text\n",
    "    except Exception as E:\n",
    "        print(E)\n",
    "        _id = None\n",
    "    \n",
    "    return _id"
   ]
  },
  {
   "cell_type": "code",
   "execution_count": 212,
   "id": "f17a807f-6076-4f68-8641-8593a9da9904",
   "metadata": {},
   "outputs": [],
   "source": [
    "def get_image_url(lido: bs4.element.Tag) -> str:\n",
    "    \"\"\"\n",
    "    assume there is only one image and that we only use lido:type 'http://terminology.lido-schema.org/lido00451'\n",
    "    \n",
    "    return the url for the image or None if element is not found \n",
    "    \"\"\"\n",
    "\n",
    "    resource_reps = lido.find(\"lido:resourceRepresentation\", attrs={\"lido:type\":\"http://terminology.lido-schema.org/lido00451\"})\n",
    "    if resource_reps:\n",
    "        url = resource_rep.find(\"lido:linkResource\")\n",
    "        if url:\n",
    "            return url.text        \n",
    "\n",
    "    return None"
   ]
  },
  {
   "cell_type": "code",
   "execution_count": 213,
   "id": "c2123def-af12-4dcc-870c-a16770dd30fb",
   "metadata": {},
   "outputs": [],
   "source": [
    "def find_record_id(lido: bs4.element.Tag) -> str:\n",
    "        \n",
    "    res = lido.find(\"lido:recordID\", attrs={\"lido:type\":\"http://terminology.lido-schema.org/lido00100\"})\n",
    "\n",
    "    if res:\n",
    "        return res.text            \n",
    "    return None"
   ]
  },
  {
   "cell_type": "code",
   "execution_count": 214,
   "id": "fb542c75-2cf4-4383-bc58-3b46f056afe0",
   "metadata": {},
   "outputs": [],
   "source": [
    "def find_record_url(lido: bs4.element.Tag) -> str:\n",
    "    \n",
    "    res = lido.find(\"lido:recordInfoLink\")\n",
    "\n",
    "    if res:\n",
    "        return res.text            \n",
    "    return None"
   ]
  },
  {
   "cell_type": "code",
   "execution_count": 215,
   "id": "17168a13-bf33-4cd1-8c0d-510030c32537",
   "metadata": {},
   "outputs": [],
   "source": [
    "def find_inventory_number(lido: bs4.element.Tag) -> str:\n",
    "    \n",
    "    res = lido.find(\"lido:workID\", attrs={\"lido:type\":\"Inventarnummer\"})\n",
    "\n",
    "    if res:\n",
    "        return res.text            \n",
    "    return None\n"
   ]
  },
  {
   "cell_type": "code",
   "execution_count": 216,
   "id": "e9b14c4f-c89a-4115-b453-5ffb5a4b4bdd",
   "metadata": {},
   "outputs": [],
   "source": [
    "def find_persons(lido) -> [str,]:\n",
    "    \n",
    "    res = lido.find_all(\"lido:displayActorInRole\")\n",
    "    \n",
    "    if res:\n",
    "        return [r.text for r in res]\n",
    "\n",
    "    return None"
   ]
  },
  {
   "cell_type": "code",
   "execution_count": 217,
   "id": "d0e48d59-dc27-4186-bf7e-a454e3df9697",
   "metadata": {},
   "outputs": [],
   "source": [
    "\n",
    "def find_relevant_dates(lido) -> [str,]:\n",
    "    \n",
    "    event_types_to_find= [\n",
    "    \"http://terminology.lido-schema.org/lido00486\",\n",
    "    \"http://terminology.lido-schema.org/lido00484\",\n",
    "    \"http://terminology.lido-schema.org/lido00487\",\n",
    "    \"http://terminology.lido-schema.org/lido00228\",\n",
    "    ]\n",
    "    found_dates=[]\n",
    "\n",
    "    events = lido.find_all(\"lido:event\")\n",
    "    for event in events:\n",
    "        event_type = event.find(\"lido:eventType\").find(\"lido:conceptID\", attrs={\"lido:type\":\"http://terminology.lido-schema.org/lido00099\"}).text\n",
    "        if event_type in event_types_to_find:\n",
    "            event_dates = find_min_max_years_within_event(event)\n",
    "            found_dates +=event_dates\n",
    "    return found_dates"
   ]
  },
  {
   "cell_type": "code",
   "execution_count": 218,
   "id": "e6ddf6a4-2cc6-4173-b67f-91c823512a21",
   "metadata": {},
   "outputs": [],
   "source": [
    "def find_min_max_years_within_event(lido) -> (int, int):\n",
    "    \"\"\"\n",
    "    find all listed dates and take min max\n",
    "    \n",
    "    \"\"\"\n",
    "    \n",
    "    found_dates = []\n",
    "    date_types = [\"lido:displayDate\", \"lido:earliestDate\", \"lido:latestDate\"]\n",
    "    \n",
    "    for date_type in date_types:\n",
    "        dates = lido.find_all(date_type)\n",
    "        for date in dates:\n",
    "            found_dates.append(date.text)\n",
    "    \n",
    "    return found_dates"
   ]
  },
  {
   "cell_type": "code",
   "execution_count": 219,
   "id": "44cb12ce-2167-4b25-b47a-4e44b2741a15",
   "metadata": {},
   "outputs": [],
   "source": [
    "def get_min_max_year_from_dates(found_dates:[str,]) -> (int, int):\n",
    "    \n",
    "    years = [int(d[:4]) for d in date_strings]\n",
    "    year_min = min(years)\n",
    "    year_max = max(years)\n",
    "    \n",
    "    return year_min, year_max"
   ]
  },
  {
   "cell_type": "code",
   "execution_count": 220,
   "id": "4dddb329-6bb2-46fa-ac3d-ef990c0e45c2",
   "metadata": {},
   "outputs": [],
   "source": [
    "def find_title(lido: bs4.element.Tag) -> str:\n",
    "    \"\"\"\n",
    "    can be multiple titles. this function just finds the first\n",
    "    \"\"\"\n",
    "    try:\n",
    "        title_element = lido.find(\"lido:titleSet\").find(\"lido:appellationValue\")\n",
    "    except Exception as e:\n",
    "        return None\n",
    "    \n",
    "    return title_element.text"
   ]
  },
  {
   "cell_type": "code",
   "execution_count": 221,
   "id": "85c361db-5ee7-4d22-9c91-5be29e986380",
   "metadata": {},
   "outputs": [],
   "source": [
    "def find_classification(lido: bs4.element.Tag) -> str:\n",
    "\n",
    "    cls = lido.find(\"lido:classification\")\n",
    "    \n",
    "    if cls:\n",
    "        return cls.find(\"lido:term\").text\n",
    "    \n",
    "    return None"
   ]
  },
  {
   "cell_type": "code",
   "execution_count": 222,
   "id": "a248a2f3-5423-43ef-baac-051121f8dbec",
   "metadata": {},
   "outputs": [],
   "source": [
    "def find_insitution_isil(lido)->str:\n",
    "\n",
    "    isil = lido.find(\"lido:legalBodyID\", attrs={\"lido:type\":\"http://terminology.lido-schema.org/lido00099\"})\n",
    "\n",
    "    if isil:\n",
    "        return isil.text\n",
    "\n",
    "    return None\n",
    "\n",
    "def find_insitution_name(lido)->str:\n",
    "\n",
    "    el = lido.find(\"lido:legalBodyName\")\n",
    "    \n",
    "    if el:\n",
    "        return el.find(\"lido:appellationValue\").text\n",
    "\n",
    "    return None\n"
   ]
  },
  {
   "cell_type": "code",
   "execution_count": 223,
   "id": "c0dcb16f-f6cf-4de7-bdbe-25b6d8000095",
   "metadata": {},
   "outputs": [],
   "source": [
    "def find_image_licence(lido) -> str:\n",
    "    \n",
    "    el = lido.find(\"lido:rightsResource\").find(\"lido:term\")\n",
    "\n",
    "    if el:\n",
    "        return el.text\n",
    "    \n",
    "    return None"
   ]
  },
  {
   "cell_type": "code",
   "execution_count": 224,
   "id": "cf4dbaed-d121-4485-be83-d70ce3290177",
   "metadata": {},
   "outputs": [],
   "source": [
    "def find_credit_line(lido) -> str:\n",
    "    el = lido.find(\"lido:creditLine\")\n",
    "    \n",
    "    if el:\n",
    "        return el.text\n",
    "    \n",
    "    return None"
   ]
  },
  {
   "cell_type": "code",
   "execution_count": 225,
   "id": "5675a924-dd7d-4a8a-942f-271e155e7f56",
   "metadata": {},
   "outputs": [],
   "source": [
    "def find_material_techniques(lido) -> [str,]:\n",
    "    \n",
    "    mat_tecs = lido.find_all(\"lido:displayMaterialsTech\")\n",
    "    \n",
    "    if mat_tecs:\n",
    "        return [mat_tec.text for mat_tec in mat_tecs]\n",
    "\n",
    "    return None"
   ]
  },
  {
   "cell_type": "code",
   "execution_count": 226,
   "id": "c296a805-045b-4d78-a7f1-d6ebf354d5cd",
   "metadata": {},
   "outputs": [],
   "source": [
    "def find_all_lido_mappings(lido) -> dict:\n",
    "    \n",
    "    lido_dict = {}\n",
    "    # find record_id\n",
    "    lido_dict['record_id'] = find_record_id(lido)\n",
    "    \n",
    "    # find publisher_id\n",
    "    lido_dict['object_published_id'] = find_lido_element_text(lido,\"lido:objectPublishedID\")\n",
    "    \n",
    "    # find lido_id\n",
    "    lido_dict['lido_id'] = get_lido_id(lido)\n",
    "    \n",
    "    # find image_url\n",
    "    lido_dict['image_url'] = get_image_url(lido)\n",
    "    \n",
    "    # find record_url\n",
    "    lido_dict['record_url'] = find_record_url(lido)\n",
    "    \n",
    "    # find inventory_number\n",
    "    lido_dict['inventory_number'] = find_inventory_number(lido)\n",
    "    \n",
    "    # find host_isil\n",
    "    lido_dict['institution_isil'] = find_insitution_isil(lido)\n",
    "    lido_dict['institution_name'] = find_insitution_name(lido)\n",
    "    \n",
    "    # find image_licence\n",
    "    lido_dict['image_licence'] = find_image_licence(lido)\n",
    "    \n",
    "    # find creditline\n",
    "    lido_dict['credit_line'] = find_credit_line(lido)\n",
    "    \n",
    "    # find title\n",
    "    lido_dict['title'] = find_title(lido)\n",
    "    \n",
    "    # find person(s)\n",
    "    lido_dict['person'] = find_persons(lido)    \n",
    "    \n",
    "    # find material_technique\n",
    "    lido_dict['material_technique'] = find_material_techniques(lido)\n",
    "    \n",
    "    # find min max years\n",
    "    found_dates = find_relevant_dates(lido)\n",
    "    year_min, year_max = get_min_max_year_from_dates(found_dates)\n",
    "    lido_dict['year_min'] = year_min\n",
    "    lido_dict['year_max'] = year_max\n",
    "\n",
    "    # find classification\n",
    "    lido_dict['classification'] = find_classification(lido)\n",
    "    \n",
    "    return lido_dict"
   ]
  },
  {
   "cell_type": "markdown",
   "id": "2e8b97cd-4d60-4627-8de4-3575be8e14a9",
   "metadata": {},
   "source": [
    "# MAIN"
   ]
  },
  {
   "cell_type": "code",
   "execution_count": 227,
   "id": "a6b4c824-0f9e-49e8-b6ac-8c881d76911a",
   "metadata": {},
   "outputs": [],
   "source": [
    "DATA_DIR = \"../../data/\"\n",
    "institution=\"graphik_portal\""
   ]
  },
  {
   "cell_type": "code",
   "execution_count": 228,
   "id": "b93a1921-f75c-4a4e-84a4-899f79ea8a1a",
   "metadata": {},
   "outputs": [
    {
     "data": {
      "text/plain": [
       "['Technisches_Beispiel.xml', 'Albrecht_Duerer.xml']"
      ]
     },
     "execution_count": 228,
     "metadata": {},
     "output_type": "execute_result"
    }
   ],
   "source": [
    "\n",
    "dir_path = f\"raw/{institution}/lido/\"\n",
    "flist = os.listdir(DATA_DIR + dir_path)\n",
    "flist"
   ]
  },
  {
   "cell_type": "code",
   "execution_count": 229,
   "id": "42fb8101-0678-4c32-a74f-9fcbd64b2e66",
   "metadata": {},
   "outputs": [],
   "source": [
    "# load a lido file and parse with beautiful soup\n",
    "fname = flist[1]\n",
    "fpath = os.path.join(DATA_DIR, dir_path, fname)\n",
    "with open(fpath, 'r') as f:\n",
    "    content = f.readlines()\n",
    "    # Combine the lines in the list into a string\n",
    "    content = \"\".join(content)\n",
    "    bs_content = bs4.BeautifulSoup(content, \"xml\")"
   ]
  },
  {
   "cell_type": "code",
   "execution_count": 230,
   "id": "d6a9af7d-3ce4-4b3d-858f-af5d6e99e6ff",
   "metadata": {},
   "outputs": [
    {
     "name": "stdout",
     "output_type": "stream",
     "text": [
      "{ 'classification': 'Druckgrafik (Visuelles Werk)',\n",
      "  'credit_line': 'gemeinfrei',\n",
      "  'image_licence': 'Rechte vorbehalten - Freier Zugang',\n",
      "  'image_url': 'http://www.bildindex.de/bilder/m/mi11813c13',\n",
      "  'institution_isil': 'http://ld.zdb-services.de/resource/organisations/DE-MUS-079214',\n",
      "  'institution_name': 'Wallraf-Richartz-Museum - Fondation Corboud (Köln)',\n",
      "  'inventory_number': '25367',\n",
      "  'lido_id': 'DE-MUS-079214/lido/05091715,T,001',\n",
      "  'material_technique': [ 'Holzschnitt auf Papier',\n",
      "                          'Turm mit Krone, Briquet 15863'],\n",
      "  'object_published_id': 'DE-MUS-079214/object/05091715,T,001',\n",
      "  'person': [ 'Albrecht Dürer (1471-1928), Inventor',\n",
      "              'Albrecht Dürer (1471-1928), Holzschneider',\n",
      "              'Albrecht Dürer (1471-1928), Verleger',\n",
      "              'Metropolitan Museum of Art (New York, NY)'],\n",
      "  'record_id': 't2/05091715,T,001',\n",
      "  'record_url': 'https://www.bildindex.de/document/obj05091715?part=1',\n",
      "  'title': 'Die Jungfrau erscheint Johannes',\n",
      "  'year_max': 1528,\n",
      "  'year_min': 1471}\n"
     ]
    }
   ],
   "source": [
    "\n",
    "# find all the individual lido records\n",
    "lidos = bs_content.find_all('lido:lido')\n",
    "\n",
    "# it seems that lido:lido is the main element that contains all the metadata for an object\n",
    "for lido in lidos:\n",
    "\n",
    "    lido_dict = find_all_lido_mappings(lido)\n",
    "\n",
    "    # add record to list / write to db\n",
    "    pprint(lido_dict,indent=2)"
   ]
  },
  {
   "cell_type": "code",
   "execution_count": null,
   "id": "e2abcd1e-5522-4e78-a83f-1bc47eefb97d",
   "metadata": {},
   "outputs": [],
   "source": []
  }
 ],
 "metadata": {
  "kernelspec": {
   "display_name": "Python 3",
   "language": "python",
   "name": "python3"
  },
  "language_info": {
   "codemirror_mode": {
    "name": "ipython",
    "version": 3
   },
   "file_extension": ".py",
   "mimetype": "text/x-python",
   "name": "python",
   "nbconvert_exporter": "python",
   "pygments_lexer": "ipython3",
   "version": "3.9.7"
  }
 },
 "nbformat": 4,
 "nbformat_minor": 5
}
