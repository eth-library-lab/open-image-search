{
 "cells": [
  {
   "cell_type": "markdown",
   "id": "fb2438e0-9c66-4eb6-a34f-e15a49331a68",
   "metadata": {},
   "source": [
    "# parse lido file and extract elements"
   ]
  },
  {
   "cell_type": "code",
   "execution_count": 1,
   "id": "b9b04e5b-d1f5-46c3-b6af-b8e2a7075853",
   "metadata": {},
   "outputs": [],
   "source": [
    "import bs4 #beautifulSoup\n",
    "import os\n",
    "import re\n",
    "from pprint import pprint\n",
    "import pandas as pd"
   ]
  },
  {
   "cell_type": "markdown",
   "id": "6b8666d7-a9e7-48b8-bc21-8b60c2fb0cfd",
   "metadata": {},
   "source": [
    "# Mapping Lido to imageSearch database fields"
   ]
  },
  {
   "cell_type": "markdown",
   "id": "eaa75234-4d17-477a-a753-c5d469139e93",
   "metadata": {},
   "source": [
    "Need to map lido to the fields in our database.  \n",
    "\n",
    "our db metadata fields are:\n",
    "\n",
    "```\n",
    "id | record_id | created_date | title | image_url | record_url | inventory_number | person | date | classification | material_technique | institution_isil | image_licence | year_min | year_max | classification_id_id | institution_isil_id_id\n",
    "```\n",
    "\n",
    "These correspond to the following Lido elements"
   ]
  },
  {
   "cell_type": "markdown",
   "id": "6c0a74aa-6626-47b4-91d9-3d732ac56e48",
   "metadata": {},
   "source": [
    "\n",
    "`record_id`\n",
    "\n",
    "```html\n",
    "<lido:recordID lido:type=http://terminology.lido-schema.org/lido00100 lido:source=https://culture.ld.admin.ch/isil/CH-000511-9>21566</lido:recordID>\n",
    "```"
   ]
  },
  {
   "cell_type": "markdown",
   "id": "10dda512-ace8-4e61-9de5-aa7d1e209d6c",
   "metadata": {},
   "source": [
    "\n",
    "`title`\n",
    "\n",
    "```html\n",
    "<lido:titleWrap>\n",
    "    <lido:titleSet>\n",
    "        <lido:appellationValue>Porträt von Albrecht Dürer dem Älteren</lido:appellationValue>\n",
    "    </lido:titleSet>\n",
    "</lido:titleWrap>\n",
    "```"
   ]
  },
  {
   "cell_type": "markdown",
   "id": "a34d3a10-0389-44c3-8460-fc37311b105c",
   "metadata": {},
   "source": [
    "`record_url`\n",
    "\n",
    "```html\n",
    "<lido:recordInfoLink>https://doi.org/10.16903/ethz-grs-D_008883</lido:recordInfoLink>\n",
    "```"
   ]
  },
  {
   "cell_type": "markdown",
   "id": "2336a547-069f-44a4-9e33-7c6fcd42a8d7",
   "metadata": {},
   "source": [
    "`person`\n",
    "\n",
    "```html\n",
    "<lido:displayActorInRole>Hollar, Wenzel (1607 - 1677)</lido:displayActorInRole>\n",
    " \n",
    "<lido:displayActorInRole>Dürer, Albrecht (1471 - 1528), nach</lido:displayActorInRole>\n",
    "```\n"
   ]
  },
  {
   "cell_type": "markdown",
   "id": "ad843f29-21b9-4953-963f-4864e7672cd4",
   "metadata": {},
   "source": [
    "\n",
    "`imageUrl`\n",
    "\n",
    "```html\n",
    "<lido:resourceRepresentation lido:type=http://terminology.lido-schema.org/lido00451>\n",
    "<lido:linkResource>https://e-gs.ethz.ch/eMP/eMuseumPlus?service=ImageAsset&amp;module=collection&amp;objectId=21566&amp;resolution=mediumImageResolution</lido:linkResource>\n",
    "</lido:resourceRepresentation>\n",
    "```"
   ]
  },
  {
   "cell_type": "markdown",
   "id": "e1ef8e6c-057d-4a9c-a6a6-68868f9721a4",
   "metadata": {},
   "source": [
    "`year_min`  `year_max`\n",
    "\n",
    "\n",
    "```html\n",
    "<lido:eventDate>\n",
    "    <lido:displayDate>1498</lido:displayDate>\n",
    "    <lido:date>\n",
    "        <lido:earliestDate>1498</lido:earliestDate>\n",
    "        <lido:latestDate>1498</lido:latestDate>\n",
    "    </lido:date>\n",
    "</lido:eventDate>\n",
    "```"
   ]
  },
  {
   "cell_type": "markdown",
   "id": "502b05c9-ff10-4370-b4fb-c549cfaca4e8",
   "metadata": {},
   "source": [
    "`classification`\n",
    "\n",
    "ETH Zurich Graphische Sammlung\n",
    "\n",
    "```html\n",
    "<lido:classification lido:type=\"Objektklassifikation\">\n",
    "        <lido:conceptID lido:type=http://terminology.lido-schema.org/lido00099 lido:source=http://vocab.getty.edu/aat>\n",
    "            http://vocab.getty.edu/aat/300041273\n",
    "        </lido:conceptID>\n",
    "    <lido:term>Druckgraphik</lido:term>\n",
    "</lido:classification>\n",
    "```\n",
    "\n",
    "Zentral Bibliothek Graphische Sammlung\n",
    "\n",
    "```html\n",
    "\n",
    "    <lido:objectClassificationWrap>\n",
    "        <lido:objectWorkTypeWrap>\n",
    "            <lido:objectWorkType>\n",
    "                <lido:term>Einblattdruck</lido:term>\n",
    "            </lido:objectWorkType>\n",
    "            <lido:objectWorkType>\n",
    "                <lido:term>Bildliche Darstellung</lido:term>\n",
    "            </lido:objectWorkType>\n",
    "            <lido:objectWorkType>\n",
    "                <lido:term>Holzschnitt</lido:term>\n",
    "            </lido:objectWorkType>\n",
    "        </lido:objectWorkTypeWrap>\n",
    "    </lido:objectClassificationWrap>\n",
    "```\n",
    "\n"
   ]
  },
  {
   "cell_type": "markdown",
   "id": "bfcd3229-7798-4faa-b36f-cedf0280e1fd",
   "metadata": {},
   "source": [
    "`image_licence`\n",
    "\n",
    "```html\n",
    "<lido:rightsResource>\n",
    "<lido:rightsType>\n",
    "<lido:conceptID lido:type=http://terminology.lido-schema.org/lido00099>https://creativecommons.org/publicdomain/zero/1.0/</lido:conceptID>\n",
    "<lido:term>CC0 1.0 Universal (CC0 1.0)</lido:term>\n",
    "</lido:rightsType>\n",
    "```"
   ]
  },
  {
   "cell_type": "markdown",
   "id": "22c8234a-914a-4573-9103-cbe7d76b2f93",
   "metadata": {},
   "source": [
    "`material_technique`\n",
    "\n",
    "```html\n",
    "<lido:displayMaterialsTech>Radierung</lido:displayMaterialsTech>\n",
    " \n",
    "\n",
    "<lido:termMaterialsTech lido:type=http://terminology.lido-schema.org/lido00132>\n",
    "<lido:conceptID lido:type=http://terminology.lido-schema.org/lido00099 lido:source=http://vocab.getty.edu/aat>http://vocab.getty.edu/aat/300053241</lido:conceptID>\n",
    "<lido:term>Radierung</lido:term>\n",
    "</lido:termMaterialsTech>\n",
    "```"
   ]
  },
  {
   "cell_type": "markdown",
   "id": "946f4a04-1008-45ca-85f1-adc3f84b7318",
   "metadata": {},
   "source": [
    "\n",
    "## functions"
   ]
  },
  {
   "cell_type": "code",
   "execution_count": 2,
   "id": "3d50d9b1-04cf-45dc-97a6-49b98b816a28",
   "metadata": {},
   "outputs": [],
   "source": [
    "def get_titles(object_identification_wrap: bs4.element.Tag):\n",
    "    \"\"\"\n",
    "    find list of titles for a given object\n",
    "    \"\"\"\n",
    "    \n",
    "    titles = []\n",
    "    for title_set in object_identification_wrap.find_all(\"lido:titleSet\"):\n",
    "        print(title_set.attrs)\n",
    "        title = title_set.find(\"lido:appellationValue\")\n",
    "        if title:\n",
    "            titles.append(title.text)\n",
    "            \n",
    "    return titles"
   ]
  },
  {
   "cell_type": "code",
   "execution_count": 3,
   "id": "bef1a13e-9d11-42c8-9cc9-f4b3c3690c4e",
   "metadata": {},
   "outputs": [],
   "source": [
    "def find_lido_element_text(lido: bs4.element.Tag, \n",
    "                            element_name:str) -> str:\n",
    "    \n",
    "    \"\"\"\n",
    "    generic function to a find an element from the given tag and return the innerText from the first found result\n",
    "    \"\"\"\n",
    "    \n",
    "    try:\n",
    "        text = lido.find(element_name).text\n",
    "\n",
    "    except Exception as E:\n",
    "        print(E)\n",
    "        text = None\n",
    "    \n",
    "    return text  \n",
    "    "
   ]
  },
  {
   "cell_type": "code",
   "execution_count": 4,
   "id": "548b25b4-6040-4fec-92f1-130175a9789b",
   "metadata": {},
   "outputs": [],
   "source": [
    "def get_lido_id(lido: bs4.element.Tag):\n",
    "    \"\"\"\n",
    "    <lido:lidoRecID lido:type=\"http://terminology.lido-schema.org/lido00100\" lido:source=\"http://ld.zdb-services.de/resource/organisations/DE-MUS-079214\">DE-MUS-079214/lido/05091715,T,001</lido:lidoRecID>\n",
    "    \"\"\" \n",
    "\n",
    "    try:\n",
    "        _id = lido.find(\"lido:lidoRecID\").text\n",
    "    except Exception as E:\n",
    "        print(E)\n",
    "        _id = None\n",
    "    \n",
    "    return _id"
   ]
  },
  {
   "cell_type": "code",
   "execution_count": 5,
   "id": "f17a807f-6076-4f68-8641-8593a9da9904",
   "metadata": {},
   "outputs": [],
   "source": [
    "def get_image_url(lido: bs4.element.Tag) -> str:\n",
    "    \"\"\"\n",
    "    assume there is only one image and that we only use lido:type 'http://terminology.lido-schema.org/lido00451'\n",
    "    \n",
    "    return the url for the image or None if element is not found \n",
    "    \"\"\"\n",
    "    \n",
    "    rep_types_to_use = [\n",
    "        \"http://terminology.lido-schema.org/lido00451\",\n",
    "        \"http://terminology.lido-schema.org/resourceRepresentation_type/provided_image\",\n",
    "    ]\n",
    "    \n",
    "    resource_reps = lido.find_all(\"lido:resourceRepresentation\")\n",
    "    \n",
    "    for resource_rep in resource_reps:\n",
    "        rep_type = resource_rep.get(\"lido:type\")\n",
    "        if rep_type in rep_types_to_use:\n",
    "            url = resource_rep.find(\"lido:linkResource\")\n",
    "            if url:\n",
    "                return url.text\n",
    "\n",
    "    return None"
   ]
  },
  {
   "cell_type": "code",
   "execution_count": 6,
   "id": "c2123def-af12-4dcc-870c-a16770dd30fb",
   "metadata": {},
   "outputs": [],
   "source": [
    "def find_record_id(lido: bs4.element.Tag) -> str:\n",
    "    \n",
    "    res = lido.find(\"lido:lidoRecID\", attrs = {\"lido:type\":\"http://terminology.lido-schema.org/identifier_type/local_identifier\"})\n",
    "    if res:\n",
    "        return res.text\n",
    "    \n",
    "    res = lido.find(\"lido:recordID\", attrs={\"lido:type\":\"http://terminology.lido-schema.org/lido00100\"})\n",
    "    if res:\n",
    "        return res.text\n",
    "    \n",
    "    return None"
   ]
  },
  {
   "cell_type": "code",
   "execution_count": 7,
   "id": "fb542c75-2cf4-4383-bc58-3b46f056afe0",
   "metadata": {},
   "outputs": [],
   "source": [
    "def find_record_url(lido: bs4.element.Tag) -> str:\n",
    "    \n",
    "    res = lido.find(\"lido:recordInfoLink\")\n",
    "\n",
    "    if res:\n",
    "        return res.text            \n",
    "    return None"
   ]
  },
  {
   "cell_type": "code",
   "execution_count": 8,
   "id": "17168a13-bf33-4cd1-8c0d-510030c32537",
   "metadata": {},
   "outputs": [],
   "source": [
    "def find_inventory_number(lido: bs4.element.Tag) -> str:\n",
    "    \n",
    "    res = lido.find(\"lido:workID\", attrs={\"lido:type\":\"Inventarnummer\"})\n",
    "\n",
    "    if res:\n",
    "        return res.text            \n",
    "    return None\n"
   ]
  },
  {
   "cell_type": "code",
   "execution_count": 9,
   "id": "e9b14c4f-c89a-4115-b453-5ffb5a4b4bdd",
   "metadata": {},
   "outputs": [],
   "source": [
    "def find_persons(lido) -> [str,]:\n",
    "    \n",
    "    res = lido.find_all(\"lido:displayActorInRole\")\n",
    "    \n",
    "    if res:\n",
    "        return [r.text for r in res]\n",
    "\n",
    "    return None"
   ]
  },
  {
   "cell_type": "code",
   "execution_count": 10,
   "id": "d0e48d59-dc27-4186-bf7e-a454e3df9697",
   "metadata": {},
   "outputs": [],
   "source": [
    "\n",
    "def find_relevant_dates(lido) -> [str,]:\n",
    "    \n",
    "    # lido:term xml:lang=\"en\">Publication event\n",
    "    # http://terminology.lido-schema.org/identifier_type/uri\">http://terminology.lido-schema.org/lido00485\n",
    "    \n",
    "    event_types_to_find= [\n",
    "    \"http://terminology.lido-schema.org/lido00485\", # publication date\n",
    "    \"http://terminology.lido-schema.org/lido00486\",\n",
    "    \"http://terminology.lido-schema.org/lido00484\",\n",
    "    \"http://terminology.lido-schema.org/lido00487\",\n",
    "    \"http://terminology.lido-schema.org/lido00228\",\n",
    "    ]\n",
    "    found_dates=[]\n",
    "\n",
    "    events = lido.find_all(\"lido:event\")\n",
    "    for event in events:\n",
    "        event_type = event.find(\"lido:eventType\").find(\"lido:conceptID\").text # attrs={\"lido:type\":\"http://terminology.lido-schema.org/lido00099\"}\n",
    "        if event_type in event_types_to_find:\n",
    "            event_dates = find_min_max_years_within_event(event)\n",
    "            found_dates +=event_dates\n",
    "\n",
    "    return found_dates"
   ]
  },
  {
   "cell_type": "code",
   "execution_count": 11,
   "id": "e6ddf6a4-2cc6-4173-b67f-91c823512a21",
   "metadata": {},
   "outputs": [],
   "source": [
    "def find_min_max_years_within_event(lido) -> (int, int):\n",
    "    \"\"\"\n",
    "    find all listed dates and take min max\n",
    "    \n",
    "    \"\"\"\n",
    "    \n",
    "    found_date_strings = []\n",
    "    date_types = [\"lido:displayDate\", \"lido:earliestDate\", \"lido:latestDate\",]\n",
    "    \n",
    "    for date_type in date_types:\n",
    "        dates = lido.find_all(date_type)\n",
    "        for date in dates:\n",
    "            found_date_strings.append(date.text)\n",
    "                         \n",
    "    return found_date_strings\n"
   ]
  },
  {
   "cell_type": "code",
   "execution_count": 12,
   "id": "d6b35e60-9419-45f1-8011-6c5550388149",
   "metadata": {},
   "outputs": [],
   "source": [
    "def find_years_in_string(s: str) -> list:\n",
    "    \"\"\"\n",
    "    finds 4 digit numbers in strings\n",
    "    e.g. for input \"earliest year is 1591 - to (1700)\"\n",
    "    returns [1591, 1700]\n",
    "    \"\"\"\n",
    "\n",
    "    ptrn = r\"[0-9]{4}\"\n",
    "    res = re.findall(ptrn, s)\n",
    "    return res"
   ]
  },
  {
   "cell_type": "code",
   "execution_count": 13,
   "id": "44cb12ce-2167-4b25-b47a-4e44b2741a15",
   "metadata": {},
   "outputs": [],
   "source": [
    "def get_min_max_year_from_dates(date_strings:[str,]) -> (int, int):\n",
    "    \n",
    "    years = []\n",
    "    for s in date_strings:\n",
    "        years += find_years_in_string(s)\n",
    "\n",
    "    if years:\n",
    "        year_min = min(years)\n",
    "        year_max = max(years)\n",
    "    else:\n",
    "        year_min = None\n",
    "        year_max = None\n",
    "\n",
    "    return year_min, year_max"
   ]
  },
  {
   "cell_type": "code",
   "execution_count": 14,
   "id": "4dddb329-6bb2-46fa-ac3d-ef990c0e45c2",
   "metadata": {},
   "outputs": [],
   "source": [
    "def find_title(lido: bs4.element.Tag) -> str:\n",
    "    \"\"\"\n",
    "    can be multiple titles. this function just finds the first\n",
    "    \"\"\"\n",
    "    try:\n",
    "        title_element = lido.find(\"lido:titleSet\").find(\"lido:appellationValue\")\n",
    "    except Exception as e:\n",
    "        return None\n",
    "    \n",
    "    return title_element.text"
   ]
  },
  {
   "cell_type": "code",
   "execution_count": 15,
   "id": "85c361db-5ee7-4d22-9c91-5be29e986380",
   "metadata": {},
   "outputs": [],
   "source": [
    "def find_classification(lido: bs4.element.Tag) -> str:\n",
    "\n",
    "    cls = lido.find(\"lido:classification\")\n",
    "    \n",
    "    if cls:\n",
    "        return cls.find(\"lido:term\").text\n",
    "    \n",
    "    return None"
   ]
  },
  {
   "cell_type": "code",
   "execution_count": 16,
   "id": "251b4b14-5bef-48f5-a21a-21f5304d934f",
   "metadata": {},
   "outputs": [],
   "source": [
    "def find_classification_2(lido: bs4.element.Tag) -> str:\n",
    "    \"\"\"\n",
    "\n",
    "\n",
    "    `\n",
    "        <lido:objectClassificationWrap>\n",
    "            <lido:objectWorkTypeWrap>\n",
    "                <lido:objectWorkType>\n",
    "                    <lido:term>Einblattdruck</lido:term>\n",
    "                </lido:objectWorkType>\n",
    "                <lido:objectWorkType>\n",
    "                    <lido:term>Bildliche Darstellung</lido:term>\n",
    "                </lido:objectWorkType>\n",
    "                <lido:objectWorkType>\n",
    "                    <lido:term>Holzschnitt</lido:term>\n",
    "                </lido:objectWorkType>\n",
    "            </lido:objectWorkTypeWrap>\n",
    "        </lido:objectClassificationWrap>\n",
    "    `\n",
    "    \"\"\"\n",
    "    class_el =  lido.find(\"lido:objectClassificationWrap\")\n",
    "    if class_el:\n",
    "        \n",
    "        classes = class_el.find_all(\"lido:objectWorkType\")\n",
    "        return [cls.findChildren()[0].text for cls in classes]\n",
    "    \n",
    "    return None"
   ]
  },
  {
   "cell_type": "code",
   "execution_count": 17,
   "id": "a248a2f3-5423-43ef-baac-051121f8dbec",
   "metadata": {},
   "outputs": [],
   "source": [
    "def find_insitution_isil(lido)->str:\n",
    "\n",
    "    isil = lido.find(\"lido:legalBodyID\", attrs={\"lido:type\":\"http://terminology.lido-schema.org/lido00099\"})\n",
    "\n",
    "    if isil:\n",
    "        return isil.text\n",
    "    \n",
    "    isil = lido.find(\"lido:legalBodyID\", attrs={\"lido:type\":\"http://terminology.lido-schema.org/identifier_type/uri\"})\n",
    "    if isil:\n",
    "        return isil.text\n",
    "    \n",
    "    return None\n",
    "\n",
    "def find_insitution_name(lido)->str:\n",
    "\n",
    "    el = lido.find(\"lido:legalBodyName\")\n",
    "    \n",
    "    if el:\n",
    "        return el.find(\"lido:appellationValue\").text\n",
    "\n",
    "    return None\n"
   ]
  },
  {
   "cell_type": "code",
   "execution_count": 18,
   "id": "c0dcb16f-f6cf-4de7-bdbe-25b6d8000095",
   "metadata": {},
   "outputs": [],
   "source": [
    "def find_image_licence(lido) -> str:\n",
    "    \n",
    "    el = lido.find(\"lido:rightsResource\")\n",
    "    if el:\n",
    "        el = el.find(\"lido:term\")\n",
    "\n",
    "    if el:\n",
    "        return el.text\n",
    "    \n",
    "    return None"
   ]
  },
  {
   "cell_type": "code",
   "execution_count": 19,
   "id": "cf4dbaed-d121-4485-be83-d70ce3290177",
   "metadata": {},
   "outputs": [],
   "source": [
    "def find_credit_line(lido) -> str:\n",
    "    \n",
    "    el = lido.find(\"lido:creditLine\")\n",
    "    \n",
    "    if el:\n",
    "        return el.text\n",
    "    \n",
    "    return None"
   ]
  },
  {
   "cell_type": "code",
   "execution_count": 20,
   "id": "5675a924-dd7d-4a8a-942f-271e155e7f56",
   "metadata": {},
   "outputs": [],
   "source": [
    "def find_material_techniques(lido) -> [str,]:\n",
    "    \n",
    "    mat_tecs = lido.find_all(\"lido:displayMaterialsTech\")\n",
    "    \n",
    "    if mat_tecs:\n",
    "        return [mat_tec.text for mat_tec in mat_tecs]\n",
    "\n",
    "    return None"
   ]
  },
  {
   "cell_type": "code",
   "execution_count": 21,
   "id": "c296a805-045b-4d78-a7f1-d6ebf354d5cd",
   "metadata": {},
   "outputs": [],
   "source": [
    "def find_all_lido_mappings(lido) -> dict:\n",
    "    \n",
    "    lido_dict = {}\n",
    "    # find record_id\n",
    "    lido_dict['record_id'] = find_record_id(lido)\n",
    "    \n",
    "    # find publisher_id\n",
    "    lido_dict['object_published_id'] = find_lido_element_text(lido,\"lido:objectPublishedID\")\n",
    "    \n",
    "    # find lido_id\n",
    "    lido_dict['lido_id'] = get_lido_id(lido)\n",
    "    \n",
    "    # find image_url\n",
    "    lido_dict['image_url'] = get_image_url(lido)\n",
    "    \n",
    "    # find record_url\n",
    "    lido_dict['record_url'] = find_record_url(lido)\n",
    "    \n",
    "    # find inventory_number\n",
    "    lido_dict['inventory_number'] = find_inventory_number(lido)\n",
    "    \n",
    "    # find host_isil\n",
    "    lido_dict['institution_isil'] = find_insitution_isil(lido)\n",
    "    lido_dict['institution_name'] = find_insitution_name(lido)\n",
    "    \n",
    "    # find image_licence\n",
    "    lido_dict['image_licence'] = find_image_licence(lido)\n",
    "    \n",
    "    # find creditline\n",
    "    lido_dict['credit_line'] = find_credit_line(lido)\n",
    "    \n",
    "    # find title\n",
    "    lido_dict['title'] = find_title(lido)\n",
    "    \n",
    "    # find person(s)\n",
    "    lido_dict['person'] = find_persons(lido)    \n",
    "    \n",
    "    # find material_technique\n",
    "    lido_dict['material_technique'] = find_material_techniques(lido)\n",
    "    \n",
    "    # find min max years\n",
    "    found_date_strings = find_relevant_dates(lido)\n",
    "    year_min, year_max = get_min_max_year_from_dates(found_date_strings)\n",
    "    lido_dict['year_min'] = year_min\n",
    "    lido_dict['year_max'] = year_max\n",
    "\n",
    "    # find classification\n",
    "    lido_dict['classification'] = find_classification(lido)\n",
    "    if lido_dict['classification']==None:\n",
    "        lido_dict['classification'] = find_classification_2(lido)\n",
    "    \n",
    "    return lido_dict"
   ]
  },
  {
   "cell_type": "markdown",
   "id": "2e8b97cd-4d60-4627-8de4-3575be8e14a9",
   "metadata": {},
   "source": [
    "# MAIN"
   ]
  },
  {
   "cell_type": "code",
   "execution_count": 22,
   "id": "a6b4c824-0f9e-49e8-b6ac-8c881d76911a",
   "metadata": {},
   "outputs": [],
   "source": [
    "# set up filepaths\n",
    "institution=\"zbz\"\n",
    "fname = \"DL-ZB-20201209-20210219.LIDO.xml\"\n",
    "fpath=None"
   ]
  },
  {
   "cell_type": "code",
   "execution_count": 25,
   "id": "b93a1921-f75c-4a4e-84a4-899f79ea8a1a",
   "metadata": {},
   "outputs": [
    {
     "name": "stdout",
     "output_type": "stream",
     "text": [
      "available files:  ['DL-ZB-20201209-20210219.LIDO.xml']\n",
      "opening file: ../../data/raw/zbz/DL-ZB-20201209-20210219.LIDO.xml\n"
     ]
    }
   ],
   "source": [
    "DATA_DIR = \"../../data/\"\n",
    "dir_path = f\"raw/{institution}/\"\n",
    "\n",
    "flist = os.listdir(DATA_DIR + dir_path)\n",
    "print(\"available files: \", [f for f in flist if f.endswith(\".xml\")])\n",
    "\n",
    "if fpath==None:\n",
    "    fpath = os.path.join(DATA_DIR, dir_path, fname)\n",
    "    \n",
    "print(f\"opening file: {fpath}\")"
   ]
  },
  {
   "cell_type": "code",
   "execution_count": 26,
   "id": "42fb8101-0678-4c32-a74f-9fcbd64b2e66",
   "metadata": {},
   "outputs": [
    {
     "name": "stdout",
     "output_type": "stream",
     "text": [
      "parsing with BeautifulSoup ...\n"
     ]
    }
   ],
   "source": [
    "# load lido file\n",
    "with open(fpath, 'r') as f:\n",
    "    content = f.read()\n",
    "\n",
    "print(\"parsing with BeautifulSoup ...\") \n",
    "bs_content = bs4.BeautifulSoup(content, \"xml\")"
   ]
  },
  {
   "cell_type": "code",
   "execution_count": 56,
   "id": "259dc3ee-0cfc-4116-8917-d8c181e3b3c1",
   "metadata": {},
   "outputs": [
    {
     "name": "stdout",
     "output_type": "stream",
     "text": [
      "found lido elements: 27935\n"
     ]
    }
   ],
   "source": [
    "# find all the individual lido records, as the main element that contains all the metadata for an object\n",
    "lidos = bs_content.find_all('lido:lido')\n",
    "print(f\"found lido elements: {len(lidos)}\")"
   ]
  },
  {
   "cell_type": "code",
   "execution_count": 57,
   "id": "18cd04b6-c3c0-4175-b8ad-0ee80dc06077",
   "metadata": {},
   "outputs": [
    {
     "data": {
      "text/plain": [
       "'../../data/interim/zbz/metadata/metadata.csv'"
      ]
     },
     "execution_count": 57,
     "metadata": {},
     "output_type": "execute_result"
    }
   ],
   "source": [
    "# prepare output file to save to\n",
    "output_dir_path = DATA_DIR + f\"interim/{institution}/metadata/\"\n",
    "\n",
    "if os.path.exists(output_dir_path)==False:\n",
    "    os.makedirs(output_dir_path)\n",
    "\n",
    "output_fpath = output_dir_path + \"metadata.csv\"\n",
    "output_fpath"
   ]
  },
  {
   "cell_type": "code",
   "execution_count": 58,
   "id": "4614e8cb-d0a8-4eb8-9830-563cb362e9c9",
   "metadata": {},
   "outputs": [
    {
     "name": "stdout",
     "output_type": "stream",
     "text": [
      "processed 27934 of 27935"
     ]
    }
   ],
   "source": [
    "chunksize=100\n",
    "num_records = len(lidos)\n",
    "\n",
    "lido_dict_list = []\n",
    "for i, lido in enumerate(lidos):\n",
    "\n",
    "    lido_dict = find_all_lido_mappings(lido)\n",
    "    lido_dict_list.append(lido_dict)\n",
    "    \n",
    "    # add record to list / write to db\n",
    "    # save at each chunk interval or on last record\n",
    "    if (len(lido_dict_list) >= chunksize) or (i+1==num_records):\n",
    "        # write to csv\n",
    "        tdf = pd.DataFrame(lido_dict_list)\n",
    "        try: \n",
    "            tdf.to_csv(output_fpath, mode=\"a\")\n",
    "        except FileNotFoundError as e:            \n",
    "            tdf.to_csv(output_fpath, mode=\"w\")           \n",
    "        # clear list\n",
    "        lido_dict_list = []\n",
    "        print(f\"\\rprocessed {i+1} of {num_records}\", end=\"\")\n",
    "print(\":  done processing lido file\")"
   ]
  }
 ],
 "metadata": {
  "kernelspec": {
   "display_name": "Python 3",
   "language": "python",
   "name": "python3"
  },
  "language_info": {
   "codemirror_mode": {
    "name": "ipython",
    "version": 3
   },
   "file_extension": ".py",
   "mimetype": "text/x-python",
   "name": "python",
   "nbconvert_exporter": "python",
   "pygments_lexer": "ipython3",
   "version": "3.9.7"
  }
 },
 "nbformat": 4,
 "nbformat_minor": 5
}
