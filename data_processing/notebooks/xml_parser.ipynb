{
 "cells": [
  {
   "cell_type": "markdown",
   "id": "fb2438e0-9c66-4eb6-a34f-e15a49331a68",
   "metadata": {},
   "source": [
    "# parse lido file and extract elements"
   ]
  },
  {
   "cell_type": "code",
   "execution_count": 133,
   "id": "b9b04e5b-d1f5-46c3-b6af-b8e2a7075853",
   "metadata": {},
   "outputs": [],
   "source": [
    "import bs4 #beautifulSoup\n",
    "import os\n",
    "import re\n",
    "from pprint import pprint"
   ]
  },
  {
   "cell_type": "code",
   "execution_count": 19,
   "id": "a6b4c824-0f9e-49e8-b6ac-8c881d76911a",
   "metadata": {},
   "outputs": [],
   "source": [
    "DATA_DIR = \"../../data/\"\n",
    "institution=\"graphik_portal\""
   ]
  },
  {
   "cell_type": "code",
   "execution_count": 20,
   "id": "b93a1921-f75c-4a4e-84a4-899f79ea8a1a",
   "metadata": {},
   "outputs": [
    {
     "data": {
      "text/plain": [
       "['Technisches_Beispiel.xml', 'Albrecht_Duerer.xml']"
      ]
     },
     "execution_count": 20,
     "metadata": {},
     "output_type": "execute_result"
    }
   ],
   "source": [
    "\n",
    "dir_path = f\"raw/{institution}/lido/\"\n",
    "flist = os.listdir(DATA_DIR + dir_path)\n",
    "flist"
   ]
  },
  {
   "cell_type": "code",
   "execution_count": 75,
   "id": "42fb8101-0678-4c32-a74f-9fcbd64b2e66",
   "metadata": {},
   "outputs": [],
   "source": [
    "# load a lido file and parse with beautiful soup\n",
    "fname = flist[1]\n",
    "fpath = os.path.join(DATA_DIR, dir_path, fname)\n",
    "with open(fpath, 'r') as f:\n",
    "    content = f.readlines()\n",
    "    # Combine the lines in the list into a string\n",
    "    content = \"\".join(content)\n",
    "    bs_content = bs4.BeautifulSoup(content, \"xml\")"
   ]
  },
  {
   "cell_type": "code",
   "execution_count": 93,
   "id": "3d50d9b1-04cf-45dc-97a6-49b98b816a28",
   "metadata": {},
   "outputs": [],
   "source": [
    "def get_titles(object_identification_wrap: bs4.element.Tag):\n",
    "    \"\"\"\n",
    "    find list of titles for a given object\n",
    "    \"\"\"\n",
    "    \n",
    "    titles = []\n",
    "    for title_set in object_identification_wrap.find_all(\"lido:titleSet\"):\n",
    "        print(title_set.attrs)\n",
    "        title = title_set.find(\"lido:appellationValue\")\n",
    "        if title:\n",
    "            titles.append(title.text)\n",
    "            \n",
    "    return titles"
   ]
  },
  {
   "cell_type": "code",
   "execution_count": 94,
   "id": "e0994927-827f-4abf-9e36-ce78b006b23c",
   "metadata": {},
   "outputs": [
    {
     "data": {
      "text/plain": [
       "1"
      ]
     },
     "execution_count": 94,
     "metadata": {},
     "output_type": "execute_result"
    }
   ],
   "source": [
    "object_identification_wraps = bs_content.find_all(\"lido:objectIdentificationWrap\")\n",
    "len(object_identification_wraps)"
   ]
  },
  {
   "cell_type": "code",
   "execution_count": 100,
   "id": "8ccaa315-c418-4b52-bbd3-bb2af698469e",
   "metadata": {},
   "outputs": [],
   "source": [
    "lido_tags = bs_content.find_all(re.compile(\"(lido).+\"))\n",
    "lido_types = {}\n",
    "\n",
    "for lido_tag in lido_tags:\n",
    "    attrs = lido_tag.attrs\n",
    "    if \"lido:type\" in attrs.keys():\n",
    "        lido_types[attrs[\"lido:type\"]] = \"\"\n"
   ]
  },
  {
   "cell_type": "code",
   "execution_count": 107,
   "id": "3fb9d9c9-d22c-496a-9f8d-93dcf9295c4a",
   "metadata": {},
   "outputs": [],
   "source": [
    "lido_id_to_vocab = {'http://vocab.getty.edu/aat/300417206': 'published_titles',\n",
    " 'http://vocab.getty.edu/aat/300417214': 'series_titles',\n",
    " 'http://terminology.lido-schema.org/lido00451': 'Preview image (en)',\n",
    " 'http://terminology.lido-schema.org/lido00464': 'Provided image'}"
   ]
  },
  {
   "cell_type": "code",
   "execution_count": 112,
   "id": "aa026faa-60d6-4c1f-ad6f-a08d105470c2",
   "metadata": {},
   "outputs": [
    {
     "data": {
      "text/plain": [
       "[{'url': 'http://www.bildindex.de/bilder/m/mi11813c13',\n",
       "  'lido_type': 'http://terminology.lido-schema.org/lido00451'},\n",
       " {'url': 'http://www.bildindex.de/bilder/d/mi11813c13',\n",
       "  'lido_type': 'http://terminology.lido-schema.org/lido00464'}]"
      ]
     },
     "execution_count": 112,
     "metadata": {},
     "output_type": "execute_result"
    }
   ],
   "source": [
    "# el=\"objectIdentificationWrap\"\n",
    "el=\"lido:descriptiveMetadata\"\n",
    "el=\"lido:objectIdentificationWrap\"\n",
    "el=\"lido:administrativeMetadata\"\n",
    "resource_reps = bs_content.find(el).find_all(\"lido:resourceRepresentation\")\n",
    "resources = []\n",
    "\n",
    "for resource_rep in resource_reps:\n",
    "    resource_dict = {}    \n",
    "    \n",
    "    url = resource_rep.find(\"lido:linkResource\")\n",
    "    if url:\n",
    "        resource_dict['url'] = url.text\n",
    "    \n",
    "    resource_dict['lido_type'] = resource_rep.attrs.get('lido:type')\n",
    "    resources.append(resource_dict)\n",
    "\n",
    "resources"
   ]
  },
  {
   "cell_type": "code",
   "execution_count": 129,
   "id": "bef1a13e-9d11-42c8-9cc9-f4b3c3690c4e",
   "metadata": {},
   "outputs": [],
   "source": [
    "def find_lido_element_text(lido: bs4.element.Tag, \n",
    "                            element_name:str) -> str:\n",
    "    \n",
    "    \"\"\"\n",
    "    generic function to a find an element from the given tag and return the innerText from the first found result\n",
    "    \"\"\"\n",
    "    \n",
    "    try:\n",
    "        text = lido.find(element_name).text\n",
    "\n",
    "    except Exception as E:\n",
    "        print(E)\n",
    "        text = None\n",
    "    \n",
    "    return text  \n",
    "    "
   ]
  },
  {
   "cell_type": "code",
   "execution_count": 130,
   "id": "548b25b4-6040-4fec-92f1-130175a9789b",
   "metadata": {},
   "outputs": [],
   "source": [
    "def get_lido_id(lido: bs4.element.Tag):\n",
    "    \"\"\"\n",
    "    <lido:lidoRecID lido:type=\"http://terminology.lido-schema.org/lido00100\" lido:source=\"http://ld.zdb-services.de/resource/organisations/DE-MUS-079214\">DE-MUS-079214/lido/05091715,T,001</lido:lidoRecID>\n",
    "    \"\"\" \n",
    "\n",
    "    try:\n",
    "        _id = lido.find(\"lido:lidoRecID\").text\n",
    "    except Exception as E:\n",
    "        print(E)\n",
    "        _id = None\n",
    "    \n",
    "    return _id"
   ]
  },
  {
   "cell_type": "code",
   "execution_count": 141,
   "id": "d6a9af7d-3ce4-4b3d-858f-af5d6e99e6ff",
   "metadata": {},
   "outputs": [
    {
     "name": "stdout",
     "output_type": "stream",
     "text": [
      "{ 'lido_id': 'DE-MUS-079214/lido/05091715,T,001',\n",
      "  'object_published_id': 'DE-MUS-079214/object/05091715,T,001'}\n"
     ]
    }
   ],
   "source": [
    "\n",
    "# list all the lido records\n",
    "lidos = bs_content.find_all('lido:lido')\n",
    "\n",
    "# it seems that lido:lido is the main element that contains all the metadata for an object\n",
    "for lido in lidos:\n",
    "\n",
    "    lido_dict = {}\n",
    "    # find publisher_id\n",
    "    lido_dict['object_published_id'] = find_lido_element_text(lido,\"lido:objectPublishedID\")\n",
    "    # find lido_id\n",
    "    lido_dict['lido_id'] = get_lido_id(lido)\n",
    "\n",
    "    # find image_url\n",
    "    \n",
    "    # find detail_url\n",
    "    \n",
    "    # find host_isil\n",
    "    \n",
    "    # find creditline\n",
    "    \n",
    "    # find title\n",
    "    \n",
    "    # find artist\n",
    "    \n",
    "    # find material_technique\n",
    "    \n",
    "    # find earliestDate\n",
    "    \n",
    "    # find latestDate\n",
    "    \n",
    "    # find classification\n",
    "    \n",
    "\n",
    "    # add record to list / write to db\n",
    "    pprint(lido_dict,indent=2)"
   ]
  }
 ],
 "metadata": {
  "kernelspec": {
   "display_name": "Python 3",
   "language": "python",
   "name": "python3"
  },
  "language_info": {
   "codemirror_mode": {
    "name": "ipython",
    "version": 3
   },
   "file_extension": ".py",
   "mimetype": "text/x-python",
   "name": "python",
   "nbconvert_exporter": "python",
   "pygments_lexer": "ipython3",
   "version": "3.9.7"
  }
 },
 "nbformat": 4,
 "nbformat_minor": 5
}
