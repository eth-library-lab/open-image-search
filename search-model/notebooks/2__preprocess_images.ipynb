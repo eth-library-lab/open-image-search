{
 "cells": [
  {
   "cell_type": "markdown",
   "metadata": {},
   "source": [
    "# Image preprocessing\n",
    "\n",
    "images were saved as png files with full browser window.\n",
    "Need to crop them to content and save as rgb\n",
    "\n",
    "1. convert images to jpg\n",
    "1. crop images to content\n",
    "1. resize images\n",
    "1. calculate the mean rgb values and mean std deviation for the image dataset"
   ]
  },
  {
   "cell_type": "code",
   "execution_count": 1,
   "metadata": {},
   "outputs": [
    {
     "ename": "ModuleNotFoundError",
     "evalue": "No module named 'cv2'",
     "output_type": "error",
     "traceback": [
      "\u001b[0;31m---------------------------------------------------------------------------\u001b[0m",
      "\u001b[0;31mModuleNotFoundError\u001b[0m                       Traceback (most recent call last)",
      "\u001b[0;32m<ipython-input-1-7878ffd107e3>\u001b[0m in \u001b[0;36m<module>\u001b[0;34m\u001b[0m\n\u001b[1;32m      1\u001b[0m \u001b[0;32mfrom\u001b[0m \u001b[0mPIL\u001b[0m \u001b[0;32mimport\u001b[0m \u001b[0mImage\u001b[0m\u001b[0;34m\u001b[0m\u001b[0;34m\u001b[0m\u001b[0m\n\u001b[1;32m      2\u001b[0m \u001b[0;32mimport\u001b[0m \u001b[0mos\u001b[0m\u001b[0;34m\u001b[0m\u001b[0;34m\u001b[0m\u001b[0m\n\u001b[0;32m----> 3\u001b[0;31m \u001b[0;32mimport\u001b[0m \u001b[0mcv2\u001b[0m\u001b[0;34m\u001b[0m\u001b[0;34m\u001b[0m\u001b[0m\n\u001b[0m\u001b[1;32m      4\u001b[0m \u001b[0;32mimport\u001b[0m \u001b[0mmatplotlib\u001b[0m\u001b[0;34m.\u001b[0m\u001b[0mpyplot\u001b[0m \u001b[0;32mas\u001b[0m \u001b[0mplt\u001b[0m\u001b[0;34m\u001b[0m\u001b[0;34m\u001b[0m\u001b[0m\n\u001b[1;32m      5\u001b[0m \u001b[0;32mimport\u001b[0m \u001b[0mnumpy\u001b[0m \u001b[0;32mas\u001b[0m \u001b[0mnp\u001b[0m\u001b[0;34m\u001b[0m\u001b[0;34m\u001b[0m\u001b[0m\n",
      "\u001b[0;31mModuleNotFoundError\u001b[0m: No module named 'cv2'"
     ]
    }
   ],
   "source": [
    "from PIL import Image\n",
    "import os\n",
    "import cv2\n",
    "import matplotlib.pyplot as plt\n",
    "import numpy as np\n"
   ]
  },
  {
   "cell_type": "code",
   "execution_count": 2,
   "metadata": {},
   "outputs": [],
   "source": [
    "import utils"
   ]
  },
  {
   "cell_type": "code",
   "execution_count": 3,
   "metadata": {},
   "outputs": [],
   "source": [
    "\n",
    "\n",
    "# def center_crop_image_to_dims(img, h=400, w=400):\n",
    "\n",
    "#     width, height = img.size   # Get dimensions\n",
    "\n",
    "#     new_width = h\n",
    "#     new_height = w\n",
    "\n",
    "#     left = (width - new_width)/2\n",
    "#     top = (height - new_height)/2\n",
    "#     right = (width + new_width)/2\n",
    "#     bottom = (height + new_height)/2\n",
    "\n",
    "#     # Crop the center of the image\n",
    "#     img = img.crop((left, top, right, bottom))\n",
    "    \n",
    "#     return img\n",
    "\n",
    "\n",
    "def crop_to_non_black_region(img_raw, min_threshold=20, plot=False):\n",
    "    # convert image to rgb and crop to non black region\n",
    "    img_rgb = img_raw.convert(\"RGB\")\n",
    "    img_arr_rgb = np.array(img_rgb)\n",
    "    img_gray = img_raw.convert('L')\n",
    "    img_arr_gray = np.array(img_gray)\n",
    "\n",
    "    # make a binary mask to select area of picture that is not black\n",
    "    _, binary = cv2.threshold(img_arr_gray, 20, 256, cv2.THRESH_BINARY)\n",
    "\n",
    "    # use a boolean filter to select area of interest\n",
    "    y_bool = np.argmax(binary,axis=1) > 0\n",
    "    x_bool = np.argmax(binary,axis=0) > 0\n",
    "    \n",
    "    # crop using boolean filter\n",
    "    img_arr_cropped = img_arr_rgb[y_bool,:][:,x_bool]\n",
    "    img_cropped = Image.fromarray(img_arr_cropped)\n",
    "    \n",
    "    if plot:\n",
    "        # # show binary mask it\n",
    "#         plt.imshow(binary, cmap=\"gray\")\n",
    "#         plt.show()\n",
    "\n",
    "        # show image\n",
    "        plt.subplot(1,2,1)\n",
    "        plt.title('original image')\n",
    "        plt.imshow(img_arr_rgb)\n",
    "        plt.subplot(1,2,2)\n",
    "        plt.title('cropped image')\n",
    "        plt.imshow(img_arr_cropped)\n",
    "        plt.show()\n",
    "    \n",
    "    return Image.fromarray(img_arr_cropped)\n",
    "\n",
    "\n",
    "def calc_resize_with_apect(size, min_dimension):\n",
    "    \n",
    "    w = size[0]\n",
    "    h = size[1]\n",
    "\n",
    "    # if min(size) > min_dimension:\n",
    "\n",
    "    new_w = (w / min(size)) * min_dimension\n",
    "    new_h = (h / min(size)) * min_dimension\n",
    "        \n",
    "    new_size = (int(new_w), int(new_h))\n",
    "\n",
    "    return new_size\n",
    "\n",
    "\n",
    "def resize_image(pil_image, min_dimension):\n",
    "    \n",
    "    \"\"\"resize a pil image to have the minimum dimension given on oneside\"\"\"\n",
    "    \n",
    "    new_size = calc_resize_with_apect(pil_image.size, min_dimension=min_dimension)  \n",
    "    pil_image = pil_image.resize(new_size, resample = Image.ANTIALIAS)\n",
    "    \n",
    "    return pil_image\n",
    "\n",
    "\n",
    "def preprocess_image(input_img_path, output_img_path): \n",
    "\n",
    "    img = Image.open(input_img_path)\n",
    "    img = crop_to_non_black_region(img, min_threshold=20, plot=False)\n",
    "    img = resize_image(img, 224)\n",
    "    img.save(output_img_path)\n",
    "    \n",
    "    return\n",
    "    \n",
    "\n",
    "def process_dir_of_images(input_image_dir, output_image_dir):\n",
    "    \n",
    "    print('checking input directory:')\n",
    "    existing_fpaths_input = utils.get_list_of_files_in_dir(input_image_dir, file_types = ['jpg', 'jpeg','png'])\n",
    "    print('checking output directory:') \n",
    "    existing_fpaths_output = utils.get_list_of_files_in_dir(output_image_dir, file_types = ['jpg', 'jpeg','png'])\n",
    "    \n",
    "#     existing_fnames_input = [os.path.split(f)[1] for f in existing_fpaths_input]\n",
    "    existing_fnames_output = [os.path.split(f)[1] for f in existing_fpaths_output]\n",
    "    \n",
    "    fpaths_to_process = [f for f in existing_fpaths_input if os.path.split(f)[1] not in existing_fnames_output]\n",
    "    num_images_to_proc = len(fpaths_to_process)\n",
    "\n",
    "    # calculate when to print status output\n",
    "    print_step = min(int(num_images_to_proc/10), 1000)\n",
    "    print('num images to process {:,}'.format(num_images_to_proc))\n",
    "    \n",
    "    for i, input_img_path in enumerate(fpaths_to_process):\n",
    "\n",
    "        # make_output_fpath\n",
    "        output_subpath = input_img_path.replace(input_image_dir,'').strip('\\\\')\n",
    "        output_img_path = os.path.join(output_image_dir, output_subpath)\n",
    "\n",
    "        if os.path.exists(output_img_path):\n",
    "            print('    info:image already exists {}'.format(output_img_path))\n",
    "            continue\n",
    "\n",
    "        # make output folder if needed\n",
    "        output_fldr_path = os.path.dirname(output_img_path)\n",
    "        if not os.path.exists(output_fldr_path):\n",
    "            os.makedirs(output_fldr_path)\n",
    "\n",
    "        #load, process and save altered image\n",
    "        try:\n",
    "            preprocess_image(input_img_path, output_img_path)\n",
    "        except:\n",
    "            print(\"    warning: could not preprocess image {}\".format(input_img_path))\n",
    "        \n",
    "        if (((i+1) % print_step) == 0) or ((i+1) == num_images_to_proc):\n",
    "            print(\"finished processing {:,} of {:,} images\".format(i+1, num_images_to_proc))\n",
    "\n",
    "    return        "
   ]
  },
  {
   "cell_type": "markdown",
   "metadata": {},
   "source": [
    "# Main"
   ]
  },
  {
   "cell_type": "code",
   "execution_count": 8,
   "metadata": {},
   "outputs": [
    {
     "data": {
      "text/plain": [
       "'../data/processed/images'"
      ]
     },
     "execution_count": 8,
     "metadata": {},
     "output_type": "execute_result"
    }
   ],
   "source": [
    "# define directories\n",
    "data_dir = os.path.join('..','data','raw','scraped')\n",
    "input_image_dir = os.path.join(data_dir, 'images')\n",
    "output_image_dir = os.path.join('..','data','processed','images')\n",
    "output_image_dir"
   ]
  },
  {
   "cell_type": "code",
   "execution_count": 5,
   "metadata": {},
   "outputs": [
    {
     "name": "stdout",
     "output_type": "stream",
     "text": [
      "checking input directory:\n",
      "found 9995 existing images\n",
      "checking output directory:\n",
      "found 10000 existing images\n",
      "num images to process 1\n"
     ]
    },
    {
     "ename": "PermissionError",
     "evalue": "[Errno 13] Permission denied: '/23'",
     "output_type": "error",
     "traceback": [
      "\u001b[0;31m---------------------------------------------------------------------------\u001b[0m",
      "\u001b[0;31mPermissionError\u001b[0m                           Traceback (most recent call last)",
      "\u001b[0;32m<ipython-input-5-b01b18f2b933>\u001b[0m in \u001b[0;36m<module>\u001b[0;34m\u001b[0m\n\u001b[0;32m----> 1\u001b[0;31m \u001b[0mprocess_dir_of_images\u001b[0m\u001b[0;34m(\u001b[0m\u001b[0minput_image_dir\u001b[0m\u001b[0;34m,\u001b[0m \u001b[0moutput_image_dir\u001b[0m\u001b[0;34m)\u001b[0m\u001b[0;34m\u001b[0m\u001b[0;34m\u001b[0m\u001b[0m\n\u001b[0m",
      "\u001b[0;32m<ipython-input-3-aec9c3f3d9f9>\u001b[0m in \u001b[0;36mprocess_dir_of_images\u001b[0;34m(input_image_dir, output_image_dir)\u001b[0m\n\u001b[1;32m    117\u001b[0m         \u001b[0moutput_fldr_path\u001b[0m \u001b[0;34m=\u001b[0m \u001b[0mos\u001b[0m\u001b[0;34m.\u001b[0m\u001b[0mpath\u001b[0m\u001b[0;34m.\u001b[0m\u001b[0mdirname\u001b[0m\u001b[0;34m(\u001b[0m\u001b[0moutput_img_path\u001b[0m\u001b[0;34m)\u001b[0m\u001b[0;34m\u001b[0m\u001b[0;34m\u001b[0m\u001b[0m\n\u001b[1;32m    118\u001b[0m         \u001b[0;32mif\u001b[0m \u001b[0;32mnot\u001b[0m \u001b[0mos\u001b[0m\u001b[0;34m.\u001b[0m\u001b[0mpath\u001b[0m\u001b[0;34m.\u001b[0m\u001b[0mexists\u001b[0m\u001b[0;34m(\u001b[0m\u001b[0moutput_fldr_path\u001b[0m\u001b[0;34m)\u001b[0m\u001b[0;34m:\u001b[0m\u001b[0;34m\u001b[0m\u001b[0;34m\u001b[0m\u001b[0m\n\u001b[0;32m--> 119\u001b[0;31m             \u001b[0mos\u001b[0m\u001b[0;34m.\u001b[0m\u001b[0mmakedirs\u001b[0m\u001b[0;34m(\u001b[0m\u001b[0moutput_fldr_path\u001b[0m\u001b[0;34m)\u001b[0m\u001b[0;34m\u001b[0m\u001b[0;34m\u001b[0m\u001b[0m\n\u001b[0m\u001b[1;32m    120\u001b[0m \u001b[0;34m\u001b[0m\u001b[0m\n\u001b[1;32m    121\u001b[0m         \u001b[0;31m#load, process and save altered image\u001b[0m\u001b[0;34m\u001b[0m\u001b[0;34m\u001b[0m\u001b[0;34m\u001b[0m\u001b[0m\n",
      "\u001b[0;32m~/anaconda3/lib/python3.7/os.py\u001b[0m in \u001b[0;36mmakedirs\u001b[0;34m(name, mode, exist_ok)\u001b[0m\n\u001b[1;32m    219\u001b[0m             \u001b[0;32mreturn\u001b[0m\u001b[0;34m\u001b[0m\u001b[0;34m\u001b[0m\u001b[0m\n\u001b[1;32m    220\u001b[0m     \u001b[0;32mtry\u001b[0m\u001b[0;34m:\u001b[0m\u001b[0;34m\u001b[0m\u001b[0;34m\u001b[0m\u001b[0m\n\u001b[0;32m--> 221\u001b[0;31m         \u001b[0mmkdir\u001b[0m\u001b[0;34m(\u001b[0m\u001b[0mname\u001b[0m\u001b[0;34m,\u001b[0m \u001b[0mmode\u001b[0m\u001b[0;34m)\u001b[0m\u001b[0;34m\u001b[0m\u001b[0;34m\u001b[0m\u001b[0m\n\u001b[0m\u001b[1;32m    222\u001b[0m     \u001b[0;32mexcept\u001b[0m \u001b[0mOSError\u001b[0m\u001b[0;34m:\u001b[0m\u001b[0;34m\u001b[0m\u001b[0;34m\u001b[0m\u001b[0m\n\u001b[1;32m    223\u001b[0m         \u001b[0;31m# Cannot rely on checking for EEXIST, since the operating system\u001b[0m\u001b[0;34m\u001b[0m\u001b[0;34m\u001b[0m\u001b[0;34m\u001b[0m\u001b[0m\n",
      "\u001b[0;31mPermissionError\u001b[0m: [Errno 13] Permission denied: '/23'"
     ]
    }
   ],
   "source": [
    "process_dir_of_images(input_image_dir, output_image_dir)"
   ]
  }
 ],
 "metadata": {
  "kernelspec": {
   "display_name": "Python 3",
   "language": "python",
   "name": "python3"
  },
  "language_info": {
   "codemirror_mode": {
    "name": "ipython",
    "version": 3
   },
   "file_extension": ".py",
   "mimetype": "text/x-python",
   "name": "python",
   "nbconvert_exporter": "python",
   "pygments_lexer": "ipython3",
   "version": "3.8.5"
  }
 },
 "nbformat": 4,
 "nbformat_minor": 4
}
