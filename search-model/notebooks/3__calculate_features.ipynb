{
 "cells": [
  {
   "cell_type": "markdown",
   "metadata": {},
   "source": [
    "# Calculate Features\n",
    "\n",
    "this notebook uses a CNN to extract features from the images in the directory. \n",
    "The results are saved to a csv."
   ]
  },
  {
   "cell_type": "code",
   "execution_count": 1,
   "metadata": {},
   "outputs": [],
   "source": [
    "import tensorflow as tf\n",
    "import os\n",
    "import csv\n",
    "import pandas as pd\n",
    "import numpy as np\n",
    "from datetime import datetime as dt\n"
   ]
  },
  {
   "cell_type": "code",
   "execution_count": 2,
   "metadata": {},
   "outputs": [],
   "source": [
    "import utils"
   ]
  },
  {
   "cell_type": "code",
   "execution_count": 3,
   "metadata": {},
   "outputs": [],
   "source": [
    "def prep_metadata_file(csv_fname_in, csv_fname_out = 'graphik_portal_{}.csv'):\n",
    "\n",
    "    # load picture metadata\n",
    "    src_fldr = os.path.join('..', 'data','raw','scraped')\n",
    "    output_fldr = os.path.join('..', 'data','interim')\n",
    "    csv_fpath = os.path.join(src_fldr, csv_fname_in)\n",
    "\n",
    "    col_names = ['title','img_url','detail_url','detail_description','object_id', 'request_num']\n",
    "    df = pd.read_csv(csv_fpath, index_col=0, header=None, na_values=['NaN'])\n",
    "    df.columns = col_names\n",
    "    \n",
    "    #drop NA's\n",
    "    orig_len = df.shape[0]\n",
    "    df = df.dropna()\n",
    "    num_dropped = orig_len - df.shape[0]\n",
    "    print('dropped {:,} records due to NaN'.format(num_dropped))\n",
    "    \n",
    "    # drop request_num col\n",
    "    df = df.drop(columns=['request_num'])\n",
    "    \n",
    "    # remove one row where a header was inaccorectly inserted\n",
    "    df = df.loc[df['object_id']!='object_id']\n",
    "\n",
    "    # change object id to int and set as index\n",
    "    df['object_id'] = df['object_id'].astype(np.int32)\n",
    "    df = df.set_index('object_id')\n",
    "    df = df.sort_index()\n",
    "\n",
    "    # drop rows that do not have images in the processed folder\n",
    "    img_fldr_path = os.path.join('..', 'data','processed','images')\n",
    "    img_fpath_lst = utils.get_list_of_files_in_dir(img_fldr_path, file_types = ['jpg', 'jpeg','png'], keep_fldr_path=True)\n",
    "    img_fpath_ser = pd.Series(img_fpath_lst, name='img_path')\n",
    "\n",
    "    # remove any duplicate files\n",
    "    img_fpath_ser = img_fpath_ser.drop_duplicates()\n",
    "\n",
    "    # set index as object id number\n",
    "    img_object_id = []\n",
    "\n",
    "    for f  in img_fpath_ser:\n",
    "\n",
    "        f_id = os.path.basename(f).split('.')[0]\n",
    "        try:\n",
    "            f_id = int(f_id)\n",
    "            img_object_id.append(f_id)\n",
    "        except:\n",
    "            print(f_id)\n",
    "\n",
    "    img_object_id = np.asarray(img_object_id, dtype=np.int64, order='C')\n",
    "    img_fpath_ser.index = img_object_id\n",
    "\n",
    "    # join series with image paths to df\n",
    "    df = df.join(img_fpath_ser, how='left', sort=False)\n",
    "    df = df.dropna(subset=['img_path',])\n",
    "\n",
    "    # write interim result to file\n",
    "    csv_fname_out = 'graphik_portal_{}.csv'.format(utils.time_stamp())\n",
    "\n",
    "    output_fldr = os.path.join('..', 'data','interim')\n",
    "    csv_fpath = os.path.join(output_fldr, csv_fname_out)\n",
    "\n",
    "    df.to_csv(csv_fpath)\n",
    "    print(\"wrote out csv {} with {:,} records\".format(csv_fpath, df.shape[0]))\n",
    "\n",
    "    return df.reset_index()"
   ]
  },
  {
   "cell_type": "code",
   "execution_count": 27,
   "metadata": {},
   "outputs": [],
   "source": [
    "def initialise_model_vgg16(print_summary=True, model_name='vgg16_imagenet'):\n",
    "    \"\"\"initialise the model to be used for feature extraction\"\"\"\n",
    "    \n",
    "    model_backbone = tf.keras.applications.VGG16(include_top=False, weights='imagenet', input_shape=(224,224,3))\n",
    "    backbone_output = model_backbone.layers[-1].output # drop the last max pooling layer from vgg\n",
    "    \n",
    "    pooling_lyr = tf.keras.layers.MaxPool2D(pool_size=(7,7))(backbone_output)\n",
    "    flatten_lyr = tf.keras.layers.Flatten()(pooling_lyr)\n",
    "    norm_lyr = tf.keras.layers.LayerNormalization()(flatten_lyr)\n",
    "    model = tf.keras.Model(inputs=model_backbone.inputs, outputs=norm_lyr)\n",
    "\n",
    "    if model_name:\n",
    "        model._name = model_name\n",
    "\n",
    "    if print_summary==True:\n",
    "        print(model.summary())\n",
    "    \n",
    "    return model"
   ]
  },
  {
   "cell_type": "code",
   "execution_count": 28,
   "metadata": {},
   "outputs": [
    {
     "data": {
      "text/plain": [
       "[<tf.Tensor 'input_6:0' shape=(None, 224, 224, 3) dtype=float32>]"
      ]
     },
     "execution_count": 28,
     "metadata": {},
     "output_type": "execute_result"
    }
   ],
   "source": [
    "model.inputs"
   ]
  },
  {
   "cell_type": "code",
   "execution_count": 29,
   "metadata": {},
   "outputs": [
    {
     "name": "stdout",
     "output_type": "stream",
     "text": [
      "Model: \"vgg16_imagenet\"\n",
      "_________________________________________________________________\n",
      "Layer (type)                 Output Shape              Param #   \n",
      "=================================================================\n",
      "input_7 (InputLayer)         [(None, 224, 224, 3)]     0         \n",
      "_________________________________________________________________\n",
      "block1_conv1 (Conv2D)        (None, 224, 224, 64)      1792      \n",
      "_________________________________________________________________\n",
      "block1_conv2 (Conv2D)        (None, 224, 224, 64)      36928     \n",
      "_________________________________________________________________\n",
      "block1_pool (MaxPooling2D)   (None, 112, 112, 64)      0         \n",
      "_________________________________________________________________\n",
      "block2_conv1 (Conv2D)        (None, 112, 112, 128)     73856     \n",
      "_________________________________________________________________\n",
      "block2_conv2 (Conv2D)        (None, 112, 112, 128)     147584    \n",
      "_________________________________________________________________\n",
      "block2_pool (MaxPooling2D)   (None, 56, 56, 128)       0         \n",
      "_________________________________________________________________\n",
      "block3_conv1 (Conv2D)        (None, 56, 56, 256)       295168    \n",
      "_________________________________________________________________\n",
      "block3_conv2 (Conv2D)        (None, 56, 56, 256)       590080    \n",
      "_________________________________________________________________\n",
      "block3_conv3 (Conv2D)        (None, 56, 56, 256)       590080    \n",
      "_________________________________________________________________\n",
      "block3_pool (MaxPooling2D)   (None, 28, 28, 256)       0         \n",
      "_________________________________________________________________\n",
      "block4_conv1 (Conv2D)        (None, 28, 28, 512)       1180160   \n",
      "_________________________________________________________________\n",
      "block4_conv2 (Conv2D)        (None, 28, 28, 512)       2359808   \n",
      "_________________________________________________________________\n",
      "block4_conv3 (Conv2D)        (None, 28, 28, 512)       2359808   \n",
      "_________________________________________________________________\n",
      "block4_pool (MaxPooling2D)   (None, 14, 14, 512)       0         \n",
      "_________________________________________________________________\n",
      "block5_conv1 (Conv2D)        (None, 14, 14, 512)       2359808   \n",
      "_________________________________________________________________\n",
      "block5_conv2 (Conv2D)        (None, 14, 14, 512)       2359808   \n",
      "_________________________________________________________________\n",
      "block5_conv3 (Conv2D)        (None, 14, 14, 512)       2359808   \n",
      "_________________________________________________________________\n",
      "block5_pool (MaxPooling2D)   (None, 7, 7, 512)         0         \n",
      "_________________________________________________________________\n",
      "max_pooling2d_5 (MaxPooling2 (None, 1, 1, 512)         0         \n",
      "_________________________________________________________________\n",
      "flatten_5 (Flatten)          (None, 512)               0         \n",
      "_________________________________________________________________\n",
      "layer_normalization_5 (Layer (None, 512)               1024      \n",
      "=================================================================\n",
      "Total params: 14,715,712\n",
      "Trainable params: 14,715,712\n",
      "Non-trainable params: 0\n",
      "_________________________________________________________________\n",
      "None\n"
     ]
    }
   ],
   "source": [
    "model = initialise_model_vgg16(print_summary=True, model_name='vgg16_imagenet')"
   ]
  },
  {
   "cell_type": "code",
   "execution_count": 5,
   "metadata": {},
   "outputs": [],
   "source": [
    "def initialise_model_resnet50(print_summary=True, model_name='resnet50_imagenet'):\n",
    "    \"\"\"initialise the model to be used for feature extraction\"\"\"\n",
    "    \n",
    "    model_backbone = tf.keras.applications.ResNet50(include_top=False, weights='imagenet', input_shape=(224,224,3))\n",
    "    pooling_lyr = tf.keras.layers.MaxPool2D(pool_size=(7,7))\n",
    "    flatten_lyr = tf.keras.layers.Flatten()\n",
    "    norm_lyr = tf.keras.layers.LayerNormalization()\n",
    "    model = tf.keras.Sequential([model_backbone, pooling_lyr, flatten_lyr, norm_lyr])\n",
    "\n",
    "    if model_name:\n",
    "        model._name = model_name\n",
    "\n",
    "    if print_summary==True:\n",
    "        print(model.summary())\n",
    "    \n",
    "    return model"
   ]
  },
  {
   "cell_type": "code",
   "execution_count": 6,
   "metadata": {},
   "outputs": [],
   "source": [
    "def initialise_model_resnet50V2(print_summary=True, model_name='resnet50V2_imagenet'):\n",
    "    \"\"\"initialise the model to be used for feature extraction\"\"\"\n",
    "    \n",
    "    input_layer = tf.keras.Input(shape=(224,224,3))\n",
    "    #include image preprocessing in model see tf.keras preprocessing (images are already in range 0,1 so values have been scaled) mode for resnetv2 is  mode='tf'\n",
    "    preprocess_layer1 = input_layer * (255/127.5)\n",
    "    preprocess_layer2 = preprocess_layer1 - (1.0/255)\n",
    "    model_backbone = tf.keras.applications.ResNet50V2(include_top=False, weights='imagenet', input_shape=(224,224,3))(preprocess_layer2)\n",
    "    pooling_lyr = tf.keras.layers.MaxPool2D(pool_size=(7,7))(model_backbone)\n",
    "    flatten_lyr = tf.keras.layers.Flatten()(pooling_lyr)\n",
    "    norm_lyr = tf.keras.layers.LayerNormalization()(flatten_lyr)\n",
    "    \n",
    "    model = tf.keras.Model(inputs=input_layer,  outputs=[norm_lyr,])\n",
    "\n",
    "    if model_name:\n",
    "        model._name = model_name\n",
    "\n",
    "    if print_summary==True:\n",
    "        print(model.summary())\n",
    "    \n",
    "    return model"
   ]
  },
  {
   "cell_type": "code",
   "execution_count": 7,
   "metadata": {},
   "outputs": [],
   "source": [
    "def make_features_csv(model=None, time_stamp=None):\n",
    "    \"\"\"\n",
    "    creates a timestamped empty csv file to hold extracted features\n",
    "    returns fpath to the file\n",
    "    \"\"\"\n",
    "        \n",
    "    fldr_path = os.path.join('..', 'data','processed')\n",
    "    \n",
    "    if not time_stamp:\n",
    "        time_stamp = dt.now().strftime('%Y%m%d%H%M')\n",
    "\n",
    "    # save model summary    \n",
    "    if model:\n",
    "        fname = 'model_notes_{}.txt'.format(time_stamp) \n",
    "        fpath = os.path.join(fldr_path, fname)\n",
    "        \n",
    "        with open(fpath,'w') as f:\n",
    "        # Pass the file handle in as a lambda function to make it callable\n",
    "            model.summary(print_fn=lambda x: f.write(x + '\\n'))\n",
    "    \n",
    "    # save empty csv to hold features\n",
    "    fname = 'features_{}.csv'.format(time_stamp)\n",
    "    fpath = os.path.join(fldr_path, fname)\n",
    "\n",
    "    with open(fpath, 'w', newline='') as csvfile:\n",
    "        writer = csv.writer(csvfile)\n",
    "\n",
    "    return fpath\n"
   ]
  },
  {
   "cell_type": "code",
   "execution_count": 8,
   "metadata": {},
   "outputs": [],
   "source": [
    "def append_tf_features_to_csv(features, labels, fpath):\n",
    "    \"\"\"\n",
    "    convert tensorflow features and labels to numpy arrays and append\n",
    "    them to an existing csv\n",
    "    \"\"\"\n",
    "    \n",
    "    labels_column = np.expand_dims(labels.numpy(),axis=1)\n",
    "    lab_feat_arr = np.hstack((labels_column, features))\n",
    "\n",
    "    with open(fpath, 'a', newline='') as csvfile:\n",
    "        np.savetxt(csvfile, lab_feat_arr, delimiter=',')\n",
    "        \n",
    "    return  \n",
    "    "
   ]
  },
  {
   "cell_type": "markdown",
   "metadata": {},
   "source": [
    "# prep metadata file"
   ]
  },
  {
   "cell_type": "code",
   "execution_count": 9,
   "metadata": {},
   "outputs": [
    {
     "name": "stdout",
     "output_type": "stream",
     "text": [
      "dropped 5 records due to NaN\n",
      "found 9994 existing images\n",
      "wrote out csv ../data/interim/graphik_portal_202010141307.csv with 9,994 records\n"
     ]
    },
    {
     "data": {
      "text/html": [
       "<div>\n",
       "<style scoped>\n",
       "    .dataframe tbody tr th:only-of-type {\n",
       "        vertical-align: middle;\n",
       "    }\n",
       "\n",
       "    .dataframe tbody tr th {\n",
       "        vertical-align: top;\n",
       "    }\n",
       "\n",
       "    .dataframe thead th {\n",
       "        text-align: right;\n",
       "    }\n",
       "</style>\n",
       "<table border=\"1\" class=\"dataframe\">\n",
       "  <thead>\n",
       "    <tr style=\"text-align: right;\">\n",
       "      <th></th>\n",
       "      <th>object_id</th>\n",
       "      <th>title</th>\n",
       "      <th>img_url</th>\n",
       "      <th>detail_url</th>\n",
       "      <th>detail_description</th>\n",
       "      <th>img_path</th>\n",
       "    </tr>\n",
       "  </thead>\n",
       "  <tbody>\n",
       "    <tr>\n",
       "      <th>0</th>\n",
       "      <td>3</td>\n",
       "      <td>Marcus Curtius stürzt sich in die Erdspalte</td>\n",
       "      <td>https://www.e-gs.ethz.ch/eMP/eMuseumPlus?servi...</td>\n",
       "      <td>https://www.graphikportal.org/document/gpo0021...</td>\n",
       "      <td>Monogrammist IB [Nagler III 1950] (Erwähnt um ...</td>\n",
       "      <td>../data/processed/images/0/3.png</td>\n",
       "    </tr>\n",
       "    <tr>\n",
       "      <th>1</th>\n",
       "      <td>18</td>\n",
       "      <td>Die Philister bringen die Bundeslade in den Te...</td>\n",
       "      <td>https://www.e-gs.ethz.ch/eMP/eMuseumPlus?servi...</td>\n",
       "      <td>https://www.graphikportal.org/document/gpo0021...</td>\n",
       "      <td>Battista Franco (Um 1510 - 1561), Um 1525 - 1561</td>\n",
       "      <td>../data/processed/images/0/18.png</td>\n",
       "    </tr>\n",
       "    <tr>\n",
       "      <th>2</th>\n",
       "      <td>19</td>\n",
       "      <td>Der grosse Saal im Schloss in Prag [Linke Bild...</td>\n",
       "      <td>https://www.e-gs.ethz.ch/eMP/eMuseumPlus?servi...</td>\n",
       "      <td>https://www.graphikportal.org/document/gpo0021...</td>\n",
       "      <td>Egidius Sadeler (der Jüngere) (Um 1570 - 1629)...</td>\n",
       "      <td>../data/processed/images/0/19.png</td>\n",
       "    </tr>\n",
       "    <tr>\n",
       "      <th>3</th>\n",
       "      <td>33</td>\n",
       "      <td>Die schöne Försterin</td>\n",
       "      <td>https://www.e-gs.ethz.ch/eMP/eMuseumPlus?servi...</td>\n",
       "      <td>https://www.graphikportal.org/document/gpo0021...</td>\n",
       "      <td>Henry Wyatt (1794 - 1840), nach, 1835, Francis...</td>\n",
       "      <td>../data/processed/images/0/33.png</td>\n",
       "    </tr>\n",
       "    <tr>\n",
       "      <th>4</th>\n",
       "      <td>52</td>\n",
       "      <td>Stigmatisation des heiligen Franziskus</td>\n",
       "      <td>https://www.e-gs.ethz.ch/eMP/eMuseumPlus?servi...</td>\n",
       "      <td>https://www.graphikportal.org/document/gpo0021...</td>\n",
       "      <td>Agostino Carracci (1557 - 1602), Ca. 1583</td>\n",
       "      <td>../data/processed/images/0/52.png</td>\n",
       "    </tr>\n",
       "  </tbody>\n",
       "</table>\n",
       "</div>"
      ],
      "text/plain": [
       "   object_id                                              title  \\\n",
       "0          3        Marcus Curtius stürzt sich in die Erdspalte   \n",
       "1         18  Die Philister bringen die Bundeslade in den Te...   \n",
       "2         19  Der grosse Saal im Schloss in Prag [Linke Bild...   \n",
       "3         33                               Die schöne Försterin   \n",
       "4         52             Stigmatisation des heiligen Franziskus   \n",
       "\n",
       "                                             img_url  \\\n",
       "0  https://www.e-gs.ethz.ch/eMP/eMuseumPlus?servi...   \n",
       "1  https://www.e-gs.ethz.ch/eMP/eMuseumPlus?servi...   \n",
       "2  https://www.e-gs.ethz.ch/eMP/eMuseumPlus?servi...   \n",
       "3  https://www.e-gs.ethz.ch/eMP/eMuseumPlus?servi...   \n",
       "4  https://www.e-gs.ethz.ch/eMP/eMuseumPlus?servi...   \n",
       "\n",
       "                                          detail_url  \\\n",
       "0  https://www.graphikportal.org/document/gpo0021...   \n",
       "1  https://www.graphikportal.org/document/gpo0021...   \n",
       "2  https://www.graphikportal.org/document/gpo0021...   \n",
       "3  https://www.graphikportal.org/document/gpo0021...   \n",
       "4  https://www.graphikportal.org/document/gpo0021...   \n",
       "\n",
       "                                  detail_description  \\\n",
       "0  Monogrammist IB [Nagler III 1950] (Erwähnt um ...   \n",
       "1   Battista Franco (Um 1510 - 1561), Um 1525 - 1561   \n",
       "2  Egidius Sadeler (der Jüngere) (Um 1570 - 1629)...   \n",
       "3  Henry Wyatt (1794 - 1840), nach, 1835, Francis...   \n",
       "4          Agostino Carracci (1557 - 1602), Ca. 1583   \n",
       "\n",
       "                            img_path  \n",
       "0   ../data/processed/images/0/3.png  \n",
       "1  ../data/processed/images/0/18.png  \n",
       "2  ../data/processed/images/0/19.png  \n",
       "3  ../data/processed/images/0/33.png  \n",
       "4  ../data/processed/images/0/52.png  "
      ]
     },
     "execution_count": 9,
     "metadata": {},
     "output_type": "execute_result"
    }
   ],
   "source": [
    "csv_fname_in = 'graphik_portal_results.csv'\n",
    "\n",
    "df = prep_metadata_file(csv_fname_in)\n",
    "df.head()"
   ]
  },
  {
   "cell_type": "markdown",
   "metadata": {},
   "source": [
    "# create tensorflow dataset"
   ]
  },
  {
   "cell_type": "code",
   "execution_count": 10,
   "metadata": {},
   "outputs": [],
   "source": [
    "batch_size=32\n",
    "\n",
    "ds = utils.make_tfdataset_from_df(df,\n",
    "                           'img_path', \n",
    "                           'object_id',\n",
    "                           batch_size=batch_size,\n",
    "                           for_training=False,\n",
    "                           normalize=False,\n",
    "                           augment=False,\n",
    "                           augment_func=None,\n",
    "                           rgb_values=([0,0,0],[1,1,1]),\n",
    "                           conv_color='rgb')"
   ]
  },
  {
   "cell_type": "markdown",
   "metadata": {},
   "source": [
    "# Load Model"
   ]
  },
  {
   "cell_type": "code",
   "execution_count": 16,
   "metadata": {},
   "outputs": [
    {
     "ename": "TypeError",
     "evalue": "The added layer must be an instance of class Layer. Found: Tensor(\"block5_conv3_2/Identity:0\", shape=(None, 14, 14, 512), dtype=float32)",
     "output_type": "error",
     "traceback": [
      "\u001b[0;31m---------------------------------------------------------------------------\u001b[0m",
      "\u001b[0;31mTypeError\u001b[0m                                 Traceback (most recent call last)",
      "\u001b[0;32m<ipython-input-16-e0371877d993>\u001b[0m in \u001b[0;36m<module>\u001b[0;34m\u001b[0m\n\u001b[0;32m----> 1\u001b[0;31m \u001b[0mmodel\u001b[0m \u001b[0;34m=\u001b[0m \u001b[0minitialise_model_vgg16\u001b[0m\u001b[0;34m(\u001b[0m\u001b[0mprint_summary\u001b[0m\u001b[0;34m=\u001b[0m\u001b[0;32mTrue\u001b[0m\u001b[0;34m,\u001b[0m \u001b[0mmodel_name\u001b[0m\u001b[0;34m=\u001b[0m\u001b[0;34m'vgg16_imagenet'\u001b[0m\u001b[0;34m)\u001b[0m\u001b[0;34m\u001b[0m\u001b[0;34m\u001b[0m\u001b[0m\n\u001b[0m\u001b[1;32m      2\u001b[0m \u001b[0mmodel\u001b[0m\u001b[0;34m.\u001b[0m\u001b[0mcompile\u001b[0m\u001b[0;34m(\u001b[0m\u001b[0;34m)\u001b[0m\u001b[0;34m\u001b[0m\u001b[0;34m\u001b[0m\u001b[0m\n",
      "\u001b[0;32m<ipython-input-15-80344e347ea2>\u001b[0m in \u001b[0;36minitialise_model_vgg16\u001b[0;34m(print_summary, model_name)\u001b[0m\n\u001b[1;32m      8\u001b[0m     \u001b[0mflatten_lyr\u001b[0m \u001b[0;34m=\u001b[0m \u001b[0mtf\u001b[0m\u001b[0;34m.\u001b[0m\u001b[0mkeras\u001b[0m\u001b[0;34m.\u001b[0m\u001b[0mlayers\u001b[0m\u001b[0;34m.\u001b[0m\u001b[0mFlatten\u001b[0m\u001b[0;34m(\u001b[0m\u001b[0;34m)\u001b[0m\u001b[0;34m\u001b[0m\u001b[0;34m\u001b[0m\u001b[0m\n\u001b[1;32m      9\u001b[0m     \u001b[0mnorm_lyr\u001b[0m \u001b[0;34m=\u001b[0m \u001b[0mtf\u001b[0m\u001b[0;34m.\u001b[0m\u001b[0mkeras\u001b[0m\u001b[0;34m.\u001b[0m\u001b[0mlayers\u001b[0m\u001b[0;34m.\u001b[0m\u001b[0mLayerNormalization\u001b[0m\u001b[0;34m(\u001b[0m\u001b[0;34m)\u001b[0m\u001b[0;34m\u001b[0m\u001b[0;34m\u001b[0m\u001b[0m\n\u001b[0;32m---> 10\u001b[0;31m     \u001b[0mmodel\u001b[0m \u001b[0;34m=\u001b[0m \u001b[0mtf\u001b[0m\u001b[0;34m.\u001b[0m\u001b[0mkeras\u001b[0m\u001b[0;34m.\u001b[0m\u001b[0mSequential\u001b[0m\u001b[0;34m(\u001b[0m\u001b[0;34m[\u001b[0m\u001b[0mmodel_backbone\u001b[0m\u001b[0;34m,\u001b[0m \u001b[0mpooling_lyr\u001b[0m\u001b[0;34m,\u001b[0m \u001b[0mflatten_lyr\u001b[0m\u001b[0;34m,\u001b[0m \u001b[0mnorm_lyr\u001b[0m\u001b[0;34m]\u001b[0m\u001b[0;34m)\u001b[0m\u001b[0;34m\u001b[0m\u001b[0;34m\u001b[0m\u001b[0m\n\u001b[0m\u001b[1;32m     11\u001b[0m \u001b[0;34m\u001b[0m\u001b[0m\n\u001b[1;32m     12\u001b[0m     \u001b[0;32mif\u001b[0m \u001b[0mmodel_name\u001b[0m\u001b[0;34m:\u001b[0m\u001b[0;34m\u001b[0m\u001b[0;34m\u001b[0m\u001b[0m\n",
      "\u001b[0;32m~/anaconda3/envs/graph-samm-gpu/lib/python3.8/site-packages/tensorflow/python/training/tracking/base.py\u001b[0m in \u001b[0;36m_method_wrapper\u001b[0;34m(self, *args, **kwargs)\u001b[0m\n\u001b[1;32m    454\u001b[0m     \u001b[0mself\u001b[0m\u001b[0;34m.\u001b[0m\u001b[0m_self_setattr_tracking\u001b[0m \u001b[0;34m=\u001b[0m \u001b[0;32mFalse\u001b[0m  \u001b[0;31m# pylint: disable=protected-access\u001b[0m\u001b[0;34m\u001b[0m\u001b[0;34m\u001b[0m\u001b[0m\n\u001b[1;32m    455\u001b[0m     \u001b[0;32mtry\u001b[0m\u001b[0;34m:\u001b[0m\u001b[0;34m\u001b[0m\u001b[0;34m\u001b[0m\u001b[0m\n\u001b[0;32m--> 456\u001b[0;31m       \u001b[0mresult\u001b[0m \u001b[0;34m=\u001b[0m \u001b[0mmethod\u001b[0m\u001b[0;34m(\u001b[0m\u001b[0mself\u001b[0m\u001b[0;34m,\u001b[0m \u001b[0;34m*\u001b[0m\u001b[0margs\u001b[0m\u001b[0;34m,\u001b[0m \u001b[0;34m**\u001b[0m\u001b[0mkwargs\u001b[0m\u001b[0;34m)\u001b[0m\u001b[0;34m\u001b[0m\u001b[0;34m\u001b[0m\u001b[0m\n\u001b[0m\u001b[1;32m    457\u001b[0m     \u001b[0;32mfinally\u001b[0m\u001b[0;34m:\u001b[0m\u001b[0;34m\u001b[0m\u001b[0;34m\u001b[0m\u001b[0m\n\u001b[1;32m    458\u001b[0m       \u001b[0mself\u001b[0m\u001b[0;34m.\u001b[0m\u001b[0m_self_setattr_tracking\u001b[0m \u001b[0;34m=\u001b[0m \u001b[0mprevious_value\u001b[0m  \u001b[0;31m# pylint: disable=protected-access\u001b[0m\u001b[0;34m\u001b[0m\u001b[0;34m\u001b[0m\u001b[0m\n",
      "\u001b[0;32m~/anaconda3/envs/graph-samm-gpu/lib/python3.8/site-packages/tensorflow/python/keras/engine/sequential.py\u001b[0m in \u001b[0;36m__init__\u001b[0;34m(self, layers, name)\u001b[0m\n\u001b[1;32m    127\u001b[0m       \u001b[0mtf_utils\u001b[0m\u001b[0;34m.\u001b[0m\u001b[0massert_no_legacy_layers\u001b[0m\u001b[0;34m(\u001b[0m\u001b[0mlayers\u001b[0m\u001b[0;34m)\u001b[0m\u001b[0;34m\u001b[0m\u001b[0;34m\u001b[0m\u001b[0m\n\u001b[1;32m    128\u001b[0m       \u001b[0;32mfor\u001b[0m \u001b[0mlayer\u001b[0m \u001b[0;32min\u001b[0m \u001b[0mlayers\u001b[0m\u001b[0;34m:\u001b[0m\u001b[0;34m\u001b[0m\u001b[0;34m\u001b[0m\u001b[0m\n\u001b[0;32m--> 129\u001b[0;31m         \u001b[0mself\u001b[0m\u001b[0;34m.\u001b[0m\u001b[0madd\u001b[0m\u001b[0;34m(\u001b[0m\u001b[0mlayer\u001b[0m\u001b[0;34m)\u001b[0m\u001b[0;34m\u001b[0m\u001b[0;34m\u001b[0m\u001b[0m\n\u001b[0m\u001b[1;32m    130\u001b[0m \u001b[0;34m\u001b[0m\u001b[0m\n\u001b[1;32m    131\u001b[0m   \u001b[0;34m@\u001b[0m\u001b[0mproperty\u001b[0m\u001b[0;34m\u001b[0m\u001b[0;34m\u001b[0m\u001b[0m\n",
      "\u001b[0;32m~/anaconda3/envs/graph-samm-gpu/lib/python3.8/site-packages/tensorflow/python/training/tracking/base.py\u001b[0m in \u001b[0;36m_method_wrapper\u001b[0;34m(self, *args, **kwargs)\u001b[0m\n\u001b[1;32m    454\u001b[0m     \u001b[0mself\u001b[0m\u001b[0;34m.\u001b[0m\u001b[0m_self_setattr_tracking\u001b[0m \u001b[0;34m=\u001b[0m \u001b[0;32mFalse\u001b[0m  \u001b[0;31m# pylint: disable=protected-access\u001b[0m\u001b[0;34m\u001b[0m\u001b[0;34m\u001b[0m\u001b[0m\n\u001b[1;32m    455\u001b[0m     \u001b[0;32mtry\u001b[0m\u001b[0;34m:\u001b[0m\u001b[0;34m\u001b[0m\u001b[0;34m\u001b[0m\u001b[0m\n\u001b[0;32m--> 456\u001b[0;31m       \u001b[0mresult\u001b[0m \u001b[0;34m=\u001b[0m \u001b[0mmethod\u001b[0m\u001b[0;34m(\u001b[0m\u001b[0mself\u001b[0m\u001b[0;34m,\u001b[0m \u001b[0;34m*\u001b[0m\u001b[0margs\u001b[0m\u001b[0;34m,\u001b[0m \u001b[0;34m**\u001b[0m\u001b[0mkwargs\u001b[0m\u001b[0;34m)\u001b[0m\u001b[0;34m\u001b[0m\u001b[0;34m\u001b[0m\u001b[0m\n\u001b[0m\u001b[1;32m    457\u001b[0m     \u001b[0;32mfinally\u001b[0m\u001b[0;34m:\u001b[0m\u001b[0;34m\u001b[0m\u001b[0;34m\u001b[0m\u001b[0m\n\u001b[1;32m    458\u001b[0m       \u001b[0mself\u001b[0m\u001b[0;34m.\u001b[0m\u001b[0m_self_setattr_tracking\u001b[0m \u001b[0;34m=\u001b[0m \u001b[0mprevious_value\u001b[0m  \u001b[0;31m# pylint: disable=protected-access\u001b[0m\u001b[0;34m\u001b[0m\u001b[0;34m\u001b[0m\u001b[0m\n",
      "\u001b[0;32m~/anaconda3/envs/graph-samm-gpu/lib/python3.8/site-packages/tensorflow/python/keras/engine/sequential.py\u001b[0m in \u001b[0;36madd\u001b[0;34m(self, layer)\u001b[0m\n\u001b[1;32m    170\u001b[0m \u001b[0;34m\u001b[0m\u001b[0m\n\u001b[1;32m    171\u001b[0m     \u001b[0;32mif\u001b[0m \u001b[0;32mnot\u001b[0m \u001b[0misinstance\u001b[0m\u001b[0;34m(\u001b[0m\u001b[0mlayer\u001b[0m\u001b[0;34m,\u001b[0m \u001b[0mbase_layer\u001b[0m\u001b[0;34m.\u001b[0m\u001b[0mLayer\u001b[0m\u001b[0;34m)\u001b[0m\u001b[0;34m:\u001b[0m\u001b[0;34m\u001b[0m\u001b[0;34m\u001b[0m\u001b[0m\n\u001b[0;32m--> 172\u001b[0;31m       raise TypeError('The added layer must be '\n\u001b[0m\u001b[1;32m    173\u001b[0m                       \u001b[0;34m'an instance of class Layer. '\u001b[0m\u001b[0;34m\u001b[0m\u001b[0;34m\u001b[0m\u001b[0m\n\u001b[1;32m    174\u001b[0m                       'Found: ' + str(layer))\n",
      "\u001b[0;31mTypeError\u001b[0m: The added layer must be an instance of class Layer. Found: Tensor(\"block5_conv3_2/Identity:0\", shape=(None, 14, 14, 512), dtype=float32)"
     ]
    }
   ],
   "source": [
    "model = initialise_model_vgg16(print_summary=True, model_name='vgg16_imagenet')\n",
    "model.compile()"
   ]
  },
  {
   "cell_type": "markdown",
   "metadata": {},
   "source": [
    "# Extract Features"
   ]
  },
  {
   "cell_type": "code",
   "execution_count": 62,
   "metadata": {},
   "outputs": [
    {
     "name": "stdout",
     "output_type": "stream",
     "text": [
      "starting feature extraction for:\n",
      "    9,994 images in 313 steps\n",
      "    writing features to ../data/processed/features_202010131713.csv\n",
      "[-------------------------------------------------->] 100.00%"
     ]
    }
   ],
   "source": [
    "time_stamp = utils.time_stamp()\n",
    "fpath = make_features_csv(model=model, time_stamp=)\n",
    "\n",
    "num_images = df.shape[0]\n",
    "total_steps = int(np.ceil(num_images / batch_size))\n",
    "print('starting feature extraction for:')\n",
    "print('    {:,} images in {:,} steps'.format(num_images, total_steps))\n",
    "print('    writing features to {}'.format(fpath))\n",
    "\n",
    "for i, (images, labels) in enumerate(iter(ds)):\n",
    "    #extract features\n",
    "    features = model.predict(images)\n",
    "    append_tf_features_to_csv(features, labels, fpath)\n",
    "    #update progress\n",
    "    utils.print_dyn_progress_bar(total_steps,i)"
   ]
  },
  {
   "cell_type": "code",
   "execution_count": 30,
   "metadata": {},
   "outputs": [
    {
     "name": "stdout",
     "output_type": "stream",
     "text": [
      "INFO:tensorflow:Assets written to: ../models/feature_extraction/202010121706/assets\n"
     ]
    }
   ],
   "source": [
    "#optional: save model\n",
    "time_stamp=str(202010121706)\n",
    "fldr_path=os.path.join('..','models','feature_extraction', time_stamp)\n",
    "os.makedirs(fldr_path)\n",
    "model.save(fldr_path, save_format='tf')"
   ]
  },
  {
   "cell_type": "code",
   "execution_count": null,
   "metadata": {},
   "outputs": [],
   "source": []
  }
 ],
 "metadata": {
  "kernelspec": {
   "display_name": "Python 3",
   "language": "python",
   "name": "python3"
  },
  "language_info": {
   "codemirror_mode": {
    "name": "ipython",
    "version": 3
   },
   "file_extension": ".py",
   "mimetype": "text/x-python",
   "name": "python",
   "nbconvert_exporter": "python",
   "pygments_lexer": "ipython3",
   "version": "3.8.5"
  }
 },
 "nbformat": 4,
 "nbformat_minor": 4
}
