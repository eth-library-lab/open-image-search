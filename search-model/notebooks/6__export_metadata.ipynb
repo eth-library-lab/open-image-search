{
 "cells": [
  {
   "cell_type": "markdown",
   "metadata": {},
   "source": [
    "# Export metadata to django fixture"
   ]
  },
  {
   "cell_type": "code",
   "execution_count": 7,
   "metadata": {},
   "outputs": [],
   "source": [
    "import os, sys\n",
    "import pandas as pd\n",
    "import json\n",
    "from datetime import datetime as dt"
   ]
  },
  {
   "cell_type": "code",
   "execution_count": 8,
   "metadata": {},
   "outputs": [],
   "source": [
    "sys.path.append('../src')\n",
    "import utils\n",
    "import settings"
   ]
  },
  {
   "cell_type": "code",
   "execution_count": 9,
   "metadata": {},
   "outputs": [],
   "source": [
    "def create_django_datetimestamp(dt_object=None):\n",
    "    \n",
    "    if dt_object==None:\n",
    "        created_time = dt.now()\n",
    "    else:\n",
    "        created_time = dt_object\n",
    "    # for django, timefield must be in format YYYY-MM-DD HH:MM[:ss[.uuuuuu]][TZ]\n",
    "    # e.g. \"2020-05-26T11:40:56+01:00\"\n",
    "    created_time = created_time.strftime('%Y-%m-%dT%H:%M:%S+01:00')\n",
    "    \n",
    "    return created_time"
   ]
  },
  {
   "cell_type": "code",
   "execution_count": 10,
   "metadata": {},
   "outputs": [],
   "source": [
    "def df_to_json_fixture(df,\n",
    "                       app_name,\n",
    "                       model_name,\n",
    "                       file_name_modifier='',\n",
    "                       output_folder=None,\n",
    "                       use_df_index_as_pk=False,\n",
    "                       pk_start_num=1000,\n",
    "                       create_datetimefield_name=None,\n",
    "                       created_by_field_name=None,\n",
    "                       created_by_value=1):\n",
    "    \n",
    "    \"\"\"\n",
    "    convert a dataframe to a django fixture file to populate an database\n",
    "    each column becomes a field in the record\n",
    "    \n",
    "    df,\n",
    "    app_name: app name in django,\n",
    "    model_name: model name in django\n",
    "    folder: destination folder to output files to\n",
    "    use_df_index_as_pk: if True df.index will become the primary key for records\n",
    "    no checks are performed\n",
    "    pk_start_num: if use_df_index_as_pk is False, primary keys will start at this\n",
    "    number\n",
    "    create_datetimefield_name: set to the name of the datetimefield for\n",
    "    recording when a record is created.\n",
    "    \"\"\"\n",
    "\n",
    "    model = \"{}.{}\".format(app_name, model_name)\n",
    "    \n",
    "    if create_datetimefield_name:\n",
    "        created_time = create_django_datetimestamp()\n",
    "        df[create_datetimefield_name] = created_time\n",
    "    \n",
    "    if created_by_field_name:\n",
    "        df[created_by_field_name] = created_by_value\n",
    "    \n",
    "    fixture_lst = []\n",
    "    for i, row in df.reset_index().iterrows():\n",
    "        \n",
    "        if use_df_index_as_pk==True:       \n",
    "            pk = row['index']\n",
    "        \n",
    "        else:\n",
    "            pk = i+pk_start_num\n",
    "        \n",
    "        fields_dict = row.drop(['index']).to_dict()\n",
    "        \n",
    "        record = {'model':model, \n",
    "               'pk':pk,\n",
    "               'fields': fields_dict}\n",
    "        fixture_lst.append(record)\n",
    "    \n",
    "    fname = model_name+'{}.json'.format(file_name_modifier)\n",
    "    if output_folder==None:\n",
    "        output_folder = '../data/processed/fixtures'\n",
    "        \n",
    "    if not os.path.exists(output_folder):\n",
    "        os.makedirs(output_folder)\n",
    "        \n",
    "    fpath = os.path.join(output_folder, fname)\n",
    "    \n",
    "    if os.path.exists(fpath):\n",
    "        raise Exception('did not save, file already exists: {}'.format(fpath))\n",
    "\n",
    "    with open(fpath, 'w') as f:\n",
    "        json.dump(fixture_lst, \n",
    "                  f, \n",
    "                  skipkeys=False, \n",
    "                  sort_keys=False)\n",
    "\n",
    "    return fixture_lst"
   ]
  },
  {
   "cell_type": "code",
   "execution_count": 30,
   "metadata": {},
   "outputs": [],
   "source": [
    "# list_of metadata files\n",
    "\n",
    "df_list = []\n",
    "metadata_dir = os.path.join(settings.BASE_DIR, 'data','interim','metadata')\n",
    "fnames = [f for f in os.listdir(metadata_dir) if f.endswith('.csv')]\n",
    "for fname in fnames:\n",
    "    fpath = os.path.join(metadata_dir,fname)\n",
    "\n",
    "    df = pd.read_csv(fpath, index_col='record_id')\n",
    "    df_list.append(df)\n",
    "\n",
    "df = pd.concat(df_list)    "
   ]
  },
  {
   "cell_type": "code",
   "execution_count": null,
   "metadata": {},
   "outputs": [],
   "source": []
  },
  {
   "cell_type": "code",
   "execution_count": 31,
   "metadata": {},
   "outputs": [],
   "source": [
    "df = df.sort_values(by='record_id')\n",
    "df = df.reset_index()"
   ]
  },
  {
   "cell_type": "code",
   "execution_count": 32,
   "metadata": {},
   "outputs": [],
   "source": [
    "fixture_dict = df_to_json_fixture(df,\n",
    "                   'ImageSearch',\n",
    "                   'ImageMetadata',\n",
    "                   file_name_modifier='',\n",
    "                   output_folder=None,\n",
    "                   use_df_index_as_pk=False,\n",
    "                   pk_start_num=1000,\n",
    "                   create_datetimefield_name='created_date',\n",
    "                   created_by_field_name=None,\n",
    "                   created_by_value=1)"
   ]
  },
  {
   "cell_type": "code",
   "execution_count": null,
   "metadata": {},
   "outputs": [],
   "source": []
  }
 ],
 "metadata": {
  "kernelspec": {
   "display_name": "Python 3",
   "language": "python",
   "name": "python3"
  },
  "language_info": {
   "codemirror_mode": {
    "name": "ipython",
    "version": 3
   },
   "file_extension": ".py",
   "mimetype": "text/x-python",
   "name": "python",
   "nbconvert_exporter": "python",
   "pygments_lexer": "ipython3",
   "version": "3.8.5"
  }
 },
 "nbformat": 4,
 "nbformat_minor": 4
}
