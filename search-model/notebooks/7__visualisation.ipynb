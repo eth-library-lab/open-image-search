{
 "cells": [
  {
   "cell_type": "code",
   "execution_count": 12,
   "metadata": {},
   "outputs": [],
   "source": [
    "import pandas as pd\n",
    "import matplotlib.pyplot as plt\n",
    "import numpy as np\n",
    "import sys\n",
    "from sklearn.decomposition import PCA\n",
    "from sklearn.manifold import TSNE\n",
    "from bokeh.palettes import d3\n",
    "from bokeh.plotting import ColumnDataSource, figure, output_file, output_notebook, show\n",
    "from bokeh.embed import components\n",
    "from bokeh.io import output_file\n",
    "import PIL\n",
    "from PIL import Image"
   ]
  },
  {
   "cell_type": "code",
   "execution_count": 4,
   "metadata": {},
   "outputs": [
    {
     "name": "stdout",
     "output_type": "stream",
     "text": [
      "Collecting package metadata (current_repodata.json): done\n",
      "Solving environment: done\n",
      "\n",
      "## Package Plan ##\n",
      "\n",
      "  environment location: /home/mengqi/miniconda3\n",
      "\n",
      "  added / updated specs:\n",
      "    - bokeh\n",
      "\n",
      "\n",
      "The following packages will be UPDATED:\n",
      "\n",
      "  ca-certificates    conda-forge::ca-certificates-2021.5.3~ --> pkgs/main::ca-certificates-2021.7.5-h06a4308_1\n",
      "\n",
      "The following packages will be SUPERSEDED by a higher-priority channel:\n",
      "\n",
      "  certifi            conda-forge::certifi-2021.5.30-py39hf~ --> pkgs/main::certifi-2021.5.30-py39h06a4308_0\n",
      "  conda              conda-forge::conda-4.10.3-py39hf3d152~ --> pkgs/main::conda-4.10.3-py39h06a4308_0\n",
      "  openssl            conda-forge::openssl-1.1.1k-h7f98852_1 --> pkgs/main::openssl-1.1.1k-h27cfd23_0\n",
      "\n",
      "\n",
      "Preparing transaction: done\n",
      "Verifying transaction: done\n",
      "Executing transaction: done\n"
     ]
    }
   ],
   "source": [
    "#!conda install bokeh -y"
   ]
  },
  {
   "cell_type": "code",
   "execution_count": 13,
   "metadata": {},
   "outputs": [],
   "source": [
    "sys.path.append('../src')\n",
    "#import utils\n",
    "#import settings\n",
    "from importlib import reload\n",
    "import utils\n",
    "reload(utils)\n",
    "from utils import *\n",
    "\n",
    "import settings\n",
    "reload(settings)\n",
    "from settings import *"
   ]
  },
  {
   "cell_type": "code",
   "execution_count": 24,
   "metadata": {},
   "outputs": [],
   "source": [
    "labels, features_list = utils.load_features(settings.features_fpath)"
   ]
  },
  {
   "cell_type": "code",
   "execution_count": 15,
   "metadata": {},
   "outputs": [],
   "source": [
    "img_urls = []\n",
    "\n",
    "for label in labels:\n",
    "    id_num = label.split('/')[-1].split('.')[0]\n",
    "    img_url = f'https://e-gs.ethz.ch/eMP/eMuseumPlus?service=ImageAsset&module=collection&objectId={id_num}&resolution=lowImageResolution'\n",
    "    img_urls.append(img_url)\n"
   ]
  },
  {
   "cell_type": "code",
   "execution_count": 25,
   "metadata": {},
   "outputs": [],
   "source": [
    "from matplotlib.offsetbox import OffsetImage, AnnotationBbox\n",
    "from matplotlib.cbook import get_sample_data\n",
    "\n",
    "def plot_images_in_2d(x, y, image_paths, axis=None, zoom=1):\n",
    "    if axis is None:\n",
    "        axis = plt.gca()\n",
    "    x, y = np.atleast_1d(x, y)\n",
    "    for x0, y0, image_path in zip(x, y, image_paths):\n",
    "        image = Image.open(image_path)\n",
    "        image.thumbnail((100, 100), Image.ANTIALIAS)\n",
    "        img = OffsetImage(image, zoom=zoom)\n",
    "        anno_box = AnnotationBbox(img, (x0, y0),\n",
    "                                  xycoords='data',\n",
    "                                  frameon=False)\n",
    "        axis.add_artist(anno_box)\n",
    "    axis.update_datalim(np.column_stack([x, y]))\n",
    "    axis.autoscale()\n",
    "\n",
    "def show_tsne(x, y, selected_filenames):\n",
    "    fig, axis = plt.subplots()\n",
    "    fig.set_size_inches(22, 22, forward=True)\n",
    "    plot_images_in_2d(x, y, selected_filenames, zoom=0.3, axis=axis)\n",
    "    #plt.show()\n",
    "    plt.savefig('cluster2k_Norm.png')"
   ]
  },
  {
   "cell_type": "code",
   "execution_count": 26,
   "metadata": {},
   "outputs": [
    {
     "name": "stdout",
     "output_type": "stream",
     "text": [
      "[t-SNE] Computing 91 nearest neighbors...\n",
      "[t-SNE] Indexed 2000 samples in 0.000s...\n",
      "[t-SNE] Computed neighbors for 2000 samples in 0.055s...\n",
      "[t-SNE] Computed conditional probabilities for sample 1000 / 2000\n",
      "[t-SNE] Computed conditional probabilities for sample 2000 / 2000\n",
      "[t-SNE] Mean sigma: 7.104048\n",
      "[t-SNE] KL divergence after 250 iterations with early exaggeration: 74.278252\n",
      "[t-SNE] KL divergence after 1000 iterations: 1.281086\n"
     ]
    }
   ],
   "source": [
    "num_feature_dimensions=100      # Set the number of features\n",
    "pca = PCA(n_components = num_feature_dimensions)\n",
    "pca.fit(features_list)\n",
    "feature_list_compressed = pca.transform(features_list)\n",
    "\n",
    "num_samples=2000\n",
    "# For speed and clarity, we'll analyze about first half of the dataset.\n",
    "selected_features = feature_list_compressed[:num_samples]\n",
    "\n",
    "selected_titles = [ l.split('/')[-1] for l in labels[:num_samples]]\n",
    "selected_imgs = img_urls[:num_samples]\n",
    "tsne_results = TSNE(n_components=2,verbose=1,metric='euclidean').fit_transform(selected_features)\n",
    "\n",
    "# Plot a scatter plot from the generated t-SNE results\n",
    "#scatter_plot = plt.scatter(tsne_results[:,0],tsne_results[:,1])\n",
    "#plt.show()"
   ]
  },
  {
   "cell_type": "code",
   "execution_count": 27,
   "metadata": {
    "scrolled": true
   },
   "outputs": [],
   "source": [
    "show_tsne(tsne_results[:, 0], tsne_results[:, 1], labels[:num_samples])"
   ]
  },
  {
   "cell_type": "code",
   "execution_count": 28,
   "metadata": {},
   "outputs": [],
   "source": [
    "def tsne_to_grid_plotter_manual(x, y, selected_filenames):\n",
    "    S = 2000\n",
    "    s = 100\n",
    "    x = (x - min(x)) / (max(x) - min(x))\n",
    "    y = (y - min(y)) / (max(y) - min(y))\n",
    "    x_values = []\n",
    "    y_values = []\n",
    "    filename_plot = []\n",
    "    x_y_dict = {}\n",
    "    for i, image_path in enumerate(selected_filenames):\n",
    "        a = np.ceil(x[i] * (S - s))\n",
    "        b = np.ceil(y[i] * (S - s))\n",
    "        a = int(a - np.mod(a, s))\n",
    "        b = int(b - np.mod(b, s))\n",
    "        if str(a) + \"|\" + str(b) in x_y_dict:\n",
    "            continue\n",
    "        x_y_dict[str(a) + \"|\" + str(b)] = 1\n",
    "        x_values.append(a)\n",
    "        y_values.append(b)\n",
    "        filename_plot.append(image_path)\n",
    "    fig, axis = plt.subplots()\n",
    "    fig.set_size_inches(22, 22, forward=True)\n",
    "    plot_images_in_2d(x_values, y_values, filename_plot, zoom=.58, axis=axis)\n",
    "    plt.savefig('grid_cluster2k.png')\n",
    "    #plt.show()\n",
    "    \n",
    "tsne_to_grid_plotter_manual(tsne_results[:, 0], tsne_results[:, 1], labels[:num_samples])"
   ]
  },
  {
   "cell_type": "code",
   "execution_count": null,
   "metadata": {},
   "outputs": [],
   "source": [
    "source = ColumnDataSource(data=dict(\n",
    "    x=tsne_results[:,0],\n",
    "    y=tsne_results[:,1],\n",
    "    desc=selected_titles,\n",
    "    imgs=selected_imgs,\n",
    "    ))\n",
    "\n",
    "TOOLTIPS = \"\"\"\n",
    "    <div>\n",
    "        <div>\n",
    "            <img\n",
    "                src=\"@imgs\" height=\"125\" alt=\"@imgs\"\n",
    "                style=\"float: left; margin: 0px 15px 15px 0px;\"\n",
    "                border=\"2\"\n",
    "            ></img>\n",
    "        </div>\n",
    "        <div>\n",
    "            <span style=\"font-size: 17px; font-weight: bold;\">@desc</span>\n",
    "            <span style=\"font-size: 15px; color: #966;\">[$index]</span>\n",
    "        </div>\n",
    "        <div>\n",
    "            <span style=\"font-size: 15px;\">Location</span>\n",
    "            <span style=\"font-size: 10px; color: #696;\">($x, $y)</span>\n",
    "        </div>\n",
    "    </div>\n",
    "\"\"\"\n",
    "\n",
    "p = figure(plot_width=600, plot_height=600, tooltips=TOOLTIPS,\n",
    "           title=\"Mouse over the dots\")\n",
    "\n",
    "p.circle('x', 'y', size=10, alpha=0.5, source=source)\n",
    "\n",
    "# export to components\n",
    "script, div = components(p)\n",
    "\n",
    "output_file('../data/interim/material_archive.html', title='Material Archive')\n",
    "show(p) "
   ]
  },
  {
   "cell_type": "markdown",
   "metadata": {},
   "source": [
    "# Graphical Collection"
   ]
  },
  {
   "cell_type": "code",
   "execution_count": null,
   "metadata": {},
   "outputs": [],
   "source": [
    "df_m = pd.read_csv('../data/raw/ethz/imageSearch_metadata_03.12.csv')\n",
    "df_m.head()"
   ]
  },
  {
   "cell_type": "code",
   "execution_count": null,
   "metadata": {},
   "outputs": [],
   "source": [
    "\n",
    "num_feature_dimensions=100\n",
    "pca = PCA(n_components = num_feature_dimensions)\n",
    "pca.fit(features_list)\n",
    "feature_list_compressed = pca.transform(features_list)"
   ]
  },
  {
   "cell_type": "code",
   "execution_count": null,
   "metadata": {},
   "outputs": [],
   "source": [
    "num_feature_dimensions=100      # Set the number of features\n",
    "pca = PCA(n_components = num_feature_dimensions)\n",
    "pca.fit(features_list)\n",
    "feature_list_compressed = pca.transform(features_list)\n",
    "\n",
    "num_samples=1000\n",
    "# For speed and clarity, we'll analyze about first half of the dataset.\n",
    "selected_features = feature_list_compressed[:num_samples]\n",
    "selected_class_ids = labels[:num_samples]\n",
    "\n",
    "tdf = df_m.loc[labels[:num_samples],:]\n",
    "selected_titles = tdf['title'].to_list()\n",
    "selected_colors = tdf['color_map'].to_list()\n",
    "\n",
    "ser_img = tdf.loc[:,'imageURL'].str.replace('resolution=superImageResolution','resolution=lowImageResolution')\n",
    "selected_imgs = ser_img.to_list()[:num_samples]\n",
    "tsne_results = TSNE(n_components=2,verbose=1,metric='euclidean').fit_transform(selected_features)\n",
    "\n",
    "# Plot a scatter plot from the generated t-SNE results\n",
    "scatter_plot = plt.scatter(tsne_results[:,0],tsne_results[:,1])\n",
    "plt.show()"
   ]
  },
  {
   "cell_type": "code",
   "execution_count": null,
   "metadata": {},
   "outputs": [],
   "source": [
    "source = ColumnDataSource(data=dict(\n",
    "    x=tsne_results[:,0],\n",
    "    y=tsne_results[:,1],\n",
    "    desc=selected_titles,\n",
    "    imgs=selected_imgs,\n",
    "    ))\n",
    "\n",
    "TOOLTIPS = \"\"\"\n",
    "    <div>\n",
    "        <div>\n",
    "            <img\n",
    "                src=\"@imgs\" height=\"75\" alt=\"@imgs\"\n",
    "                style=\"float: left; margin: 0px 15px 15px 0px;\"\n",
    "                border=\"2\"\n",
    "            ></img>\n",
    "        </div>\n",
    "        <div>\n",
    "            <span style=\"font-size: 17px; font-weight: bold;\">@desc</span>\n",
    "            <span style=\"font-size: 15px; color: #966;\">[$index]</span>\n",
    "        </div>\n",
    "        <div>\n",
    "            <span style=\"font-size: 15px;\">Location</span>\n",
    "            <span style=\"font-size: 10px; color: #696;\">($x, $y)</span>\n",
    "        </div>\n",
    "    </div>\n",
    "\"\"\"\n",
    "\n",
    "p = figure(plot_width=600, plot_height=600, tooltips=TOOLTIPS,\n",
    "           title=\"Mouse over the dots\")\n",
    "\n",
    "p.circle('x', 'y', size=10, color='colors', alpha=0.5, source=source)\n",
    "\n",
    "# export to components\n",
    "script, div = components(p)\n",
    "\n",
    "show(p)"
   ]
  },
  {
   "cell_type": "code",
   "execution_count": null,
   "metadata": {},
   "outputs": [],
   "source": []
  },
  {
   "cell_type": "code",
   "execution_count": null,
   "metadata": {},
   "outputs": [],
   "source": [
    "pca = PCA(200)\n",
    "pca.fit(features_list)\n",
    "plt.style.use('seaborn')\n",
    "plt.plot(range(1,201),pca.explained_variance_ratio_,'o--', markersize=4)\n",
    "plt.title ('Variance for each PCA dimension')\n",
    "plt.xlabel('PCA Dimensions')\n",
    "plt.ylabel('Variance')\n",
    "plt.grid(True)\n",
    "plt.show()"
   ]
  },
  {
   "cell_type": "code",
   "execution_count": null,
   "metadata": {},
   "outputs": [],
   "source": []
  }
 ],
 "metadata": {
  "kernelspec": {
   "display_name": "Python 3 (ipykernel)",
   "language": "python",
   "name": "python3"
  },
  "language_info": {
   "codemirror_mode": {
    "name": "ipython",
    "version": 3
   },
   "file_extension": ".py",
   "mimetype": "text/x-python",
   "name": "python",
   "nbconvert_exporter": "python",
   "pygments_lexer": "ipython3",
   "version": "3.9.5"
  }
 },
 "nbformat": 4,
 "nbformat_minor": 4
}
