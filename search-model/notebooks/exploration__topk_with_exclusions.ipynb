{
 "cells": [
  {
   "cell_type": "code",
   "execution_count": 162,
   "metadata": {},
   "outputs": [],
   "source": [
    "import numpy as np\n",
    "import pandas as pd\n",
    "\n",
    "from typing import Dict, Optional, Text, Tuple, Union\n",
    "\n",
    "import tensorflow as tf\n",
    "import tensorflow_datasets as tfds\n",
    "import tensorflow_recommenders as tfrs"
   ]
  },
  {
   "cell_type": "code",
   "execution_count": 179,
   "metadata": {},
   "outputs": [],
   "source": [
    "def _take_along_axis(arr: tf.Tensor, indices: tf.Tensor) -> tf.Tensor:\n",
    "    \"\"\"Partial TF implementation of numpy.take_along_axis.\n",
    "    See\n",
    "    https://numpy.org/doc/stable/reference/generated/numpy.take_along_axis.html\n",
    "    for details.\n",
    "    Args:\n",
    "    arr: 2D matrix of source values.\n",
    "    indices: 2D matrix of indices.\n",
    "    Returns:\n",
    "    2D matrix of values selected from the input.\n",
    "    \"\"\"\n",
    "\n",
    "    row_indices = tf.tile(\n",
    "      tf.expand_dims(tf.range(tf.shape(indices)[0]), 1),\n",
    "      [1, tf.shape(indices)[1]])\n",
    "    gather_indices = tf.concat(\n",
    "      [tf.reshape(row_indices, (-1, 1)),\n",
    "       tf.reshape(indices, (-1, 1))], axis=1)\n",
    "\n",
    "    return tf.reshape(tf.gather_nd(arr, gather_indices), tf.shape(indices))\n",
    "\n",
    "\n",
    "# modified from tensorflow source code to prevent type error\n",
    "def _exclude(scores: tf.Tensor, identifiers: tf.Tensor, exclude: tf.Tensor,\n",
    "             k: int) -> Tuple[tf.Tensor, tf.Tensor]:\n",
    "    \"\"\"Removes a subset of candidates from top K candidates.\n",
    "    For each row of inputs excludes those candidates whose identifiers match\n",
    "    any of the identifiers present in the exclude matrix for that row.\n",
    "    Args:\n",
    "    scores: 2D matrix of candidate scores.\n",
    "    identifiers: 2D matrix of candidate identifiers.\n",
    "    exclude: 2D matrix of identifiers to exclude.\n",
    "    k: Number of candidates to return.\n",
    "    Returns:\n",
    "    Tuple of (scores, indices) of candidates after exclusions.\n",
    "    \"\"\"\n",
    "\n",
    "    idents = tf.expand_dims(identifiers, -1)\n",
    "    exclude = tf.expand_dims(exclude, 1)\n",
    "\n",
    "    isin = tf.math.reduce_any(tf.math.equal(idents, exclude), -1)\n",
    "\n",
    "    # Set the scores of the excluded candidates to a very low value.\n",
    "#     adjusted_scores = (scores - tf.cast(isin, tf.float32) * 1.0e5)\n",
    "    \n",
    "    ##### cast input scores to prevent type error\n",
    "    adjusted_scores = (tf.cast(scores, tf.float64) - tf.cast(isin, tf.float64) * 1.0e5)\n",
    "\n",
    "    k = tf.math.minimum(k, tf.shape(scores)[1])\n",
    "\n",
    "    _, indices = tf.math.top_k(adjusted_scores, k=k)\n",
    "\n",
    "    return _take_along_axis(scores,\n",
    "                          indices), _take_along_axis(identifiers, indices)\n",
    "\n",
    "\n",
    "def top_k_with_exclusions(topk, query, exclusions, k):\n",
    "    \"\"\"TopK class\"\"\"\n",
    "    \n",
    "    adjusted_k = k + exclusions.shape[1]\n",
    "    x, y = topk.call(queries=query, k=adjusted_k)\n",
    "    \n",
    "    return _exclude(x, y, exclude=exclusions, k=k)"
   ]
  },
  {
   "cell_type": "code",
   "execution_count": 180,
   "metadata": {},
   "outputs": [],
   "source": [
    "# Ratings data.\n",
    "ratings = tfds.load('movielens/100k-ratings', split=\"train\")\n",
    "# Features of all the available movies.\n",
    "movies = tfds.load('movielens/100k-movies', split=\"train\")"
   ]
  },
  {
   "cell_type": "code",
   "execution_count": 181,
   "metadata": {},
   "outputs": [],
   "source": [
    "# Select the basic features.\n",
    "ratings = ratings.map(lambda x: {\n",
    "    \"movie_title\": x[\"movie_title\"],\n",
    "    \"user_id\": x[\"user_id\"]\n",
    "})\n",
    "movies = movies.map(lambda x: x[\"movie_title\"])"
   ]
  },
  {
   "cell_type": "code",
   "execution_count": 182,
   "metadata": {},
   "outputs": [
    {
     "data": {
      "text/html": [
       "<div>\n",
       "<style scoped>\n",
       "    .dataframe tbody tr th:only-of-type {\n",
       "        vertical-align: middle;\n",
       "    }\n",
       "\n",
       "    .dataframe tbody tr th {\n",
       "        vertical-align: top;\n",
       "    }\n",
       "\n",
       "    .dataframe thead th {\n",
       "        text-align: right;\n",
       "    }\n",
       "</style>\n",
       "<table border=\"1\" class=\"dataframe\">\n",
       "  <thead>\n",
       "    <tr style=\"text-align: right;\">\n",
       "      <th></th>\n",
       "      <th>drawing</th>\n",
       "      <th>print</th>\n",
       "      <th>sculpture</th>\n",
       "    </tr>\n",
       "    <tr>\n",
       "      <th>id</th>\n",
       "      <th></th>\n",
       "      <th></th>\n",
       "      <th></th>\n",
       "    </tr>\n",
       "  </thead>\n",
       "  <tbody>\n",
       "    <tr>\n",
       "      <th>0</th>\n",
       "      <td>1</td>\n",
       "      <td>0</td>\n",
       "      <td>0</td>\n",
       "    </tr>\n",
       "    <tr>\n",
       "      <th>1</th>\n",
       "      <td>0</td>\n",
       "      <td>1</td>\n",
       "      <td>0</td>\n",
       "    </tr>\n",
       "    <tr>\n",
       "      <th>2</th>\n",
       "      <td>0</td>\n",
       "      <td>1</td>\n",
       "      <td>0</td>\n",
       "    </tr>\n",
       "    <tr>\n",
       "      <th>3</th>\n",
       "      <td>0</td>\n",
       "      <td>1</td>\n",
       "      <td>0</td>\n",
       "    </tr>\n",
       "    <tr>\n",
       "      <th>4</th>\n",
       "      <td>0</td>\n",
       "      <td>0</td>\n",
       "      <td>1</td>\n",
       "    </tr>\n",
       "  </tbody>\n",
       "</table>\n",
       "</div>"
      ],
      "text/plain": [
       "    drawing  print  sculpture\n",
       "id                           \n",
       "0         1      0          0\n",
       "1         0      1          0\n",
       "2         0      1          0\n",
       "3         0      1          0\n",
       "4         0      0          1"
      ]
     },
     "execution_count": 182,
     "metadata": {},
     "output_type": "execute_result"
    }
   ],
   "source": [
    "data = {\"drawing\":[1,0,0,0,0],\"print\":[0,1,1,1,0],\"sculpture\":[0,0,0,0,1],}\n",
    "df = pd.DataFrame(data)\n",
    "df.index = df.index.rename(\"id\")\n",
    "features = df.values\n",
    "df"
   ]
  },
  {
   "cell_type": "code",
   "execution_count": 183,
   "metadata": {},
   "outputs": [],
   "source": [
    "embeddings = np.random.rand(5,10)\n",
    "np.arange(0,10).tolist()\n",
    "df.loc[:,np.arange(0,10).tolist()] = embeddings"
   ]
  },
  {
   "cell_type": "code",
   "execution_count": 184,
   "metadata": {},
   "outputs": [
    {
     "data": {
      "text/html": [
       "<div>\n",
       "<style scoped>\n",
       "    .dataframe tbody tr th:only-of-type {\n",
       "        vertical-align: middle;\n",
       "    }\n",
       "\n",
       "    .dataframe tbody tr th {\n",
       "        vertical-align: top;\n",
       "    }\n",
       "\n",
       "    .dataframe thead th {\n",
       "        text-align: right;\n",
       "    }\n",
       "</style>\n",
       "<table border=\"1\" class=\"dataframe\">\n",
       "  <thead>\n",
       "    <tr style=\"text-align: right;\">\n",
       "      <th></th>\n",
       "      <th>drawing</th>\n",
       "      <th>print</th>\n",
       "      <th>sculpture</th>\n",
       "      <th>0</th>\n",
       "      <th>1</th>\n",
       "      <th>2</th>\n",
       "      <th>3</th>\n",
       "      <th>4</th>\n",
       "      <th>5</th>\n",
       "      <th>6</th>\n",
       "      <th>7</th>\n",
       "      <th>8</th>\n",
       "      <th>9</th>\n",
       "    </tr>\n",
       "    <tr>\n",
       "      <th>id</th>\n",
       "      <th></th>\n",
       "      <th></th>\n",
       "      <th></th>\n",
       "      <th></th>\n",
       "      <th></th>\n",
       "      <th></th>\n",
       "      <th></th>\n",
       "      <th></th>\n",
       "      <th></th>\n",
       "      <th></th>\n",
       "      <th></th>\n",
       "      <th></th>\n",
       "      <th></th>\n",
       "    </tr>\n",
       "  </thead>\n",
       "  <tbody>\n",
       "    <tr>\n",
       "      <th>0</th>\n",
       "      <td>1</td>\n",
       "      <td>0</td>\n",
       "      <td>0</td>\n",
       "      <td>0.771308</td>\n",
       "      <td>0.868213</td>\n",
       "      <td>0.905044</td>\n",
       "      <td>0.699536</td>\n",
       "      <td>0.455144</td>\n",
       "      <td>0.457043</td>\n",
       "      <td>0.029889</td>\n",
       "      <td>0.673939</td>\n",
       "      <td>0.210672</td>\n",
       "      <td>0.461085</td>\n",
       "    </tr>\n",
       "    <tr>\n",
       "      <th>1</th>\n",
       "      <td>0</td>\n",
       "      <td>1</td>\n",
       "      <td>0</td>\n",
       "      <td>0.543021</td>\n",
       "      <td>0.130124</td>\n",
       "      <td>0.641778</td>\n",
       "      <td>0.359605</td>\n",
       "      <td>0.395645</td>\n",
       "      <td>0.967943</td>\n",
       "      <td>0.207388</td>\n",
       "      <td>0.078284</td>\n",
       "      <td>0.134154</td>\n",
       "      <td>0.634955</td>\n",
       "    </tr>\n",
       "    <tr>\n",
       "      <th>2</th>\n",
       "      <td>0</td>\n",
       "      <td>1</td>\n",
       "      <td>0</td>\n",
       "      <td>0.259846</td>\n",
       "      <td>0.921892</td>\n",
       "      <td>0.652759</td>\n",
       "      <td>0.195649</td>\n",
       "      <td>0.797057</td>\n",
       "      <td>0.907131</td>\n",
       "      <td>0.794753</td>\n",
       "      <td>0.002908</td>\n",
       "      <td>0.849282</td>\n",
       "      <td>0.899346</td>\n",
       "    </tr>\n",
       "    <tr>\n",
       "      <th>3</th>\n",
       "      <td>0</td>\n",
       "      <td>1</td>\n",
       "      <td>0</td>\n",
       "      <td>0.161075</td>\n",
       "      <td>0.592141</td>\n",
       "      <td>0.881365</td>\n",
       "      <td>0.019499</td>\n",
       "      <td>0.916479</td>\n",
       "      <td>0.028102</td>\n",
       "      <td>0.649255</td>\n",
       "      <td>0.881642</td>\n",
       "      <td>0.350867</td>\n",
       "      <td>0.318975</td>\n",
       "    </tr>\n",
       "    <tr>\n",
       "      <th>4</th>\n",
       "      <td>0</td>\n",
       "      <td>0</td>\n",
       "      <td>1</td>\n",
       "      <td>0.265029</td>\n",
       "      <td>0.053065</td>\n",
       "      <td>0.765379</td>\n",
       "      <td>0.544815</td>\n",
       "      <td>0.977045</td>\n",
       "      <td>0.195734</td>\n",
       "      <td>0.845131</td>\n",
       "      <td>0.350207</td>\n",
       "      <td>0.726597</td>\n",
       "      <td>0.775345</td>\n",
       "    </tr>\n",
       "  </tbody>\n",
       "</table>\n",
       "</div>"
      ],
      "text/plain": [
       "    drawing  print  sculpture         0         1         2         3  \\\n",
       "id                                                                      \n",
       "0         1      0          0  0.771308  0.868213  0.905044  0.699536   \n",
       "1         0      1          0  0.543021  0.130124  0.641778  0.359605   \n",
       "2         0      1          0  0.259846  0.921892  0.652759  0.195649   \n",
       "3         0      1          0  0.161075  0.592141  0.881365  0.019499   \n",
       "4         0      0          1  0.265029  0.053065  0.765379  0.544815   \n",
       "\n",
       "           4         5         6         7         8         9  \n",
       "id                                                              \n",
       "0   0.455144  0.457043  0.029889  0.673939  0.210672  0.461085  \n",
       "1   0.395645  0.967943  0.207388  0.078284  0.134154  0.634955  \n",
       "2   0.797057  0.907131  0.794753  0.002908  0.849282  0.899346  \n",
       "3   0.916479  0.028102  0.649255  0.881642  0.350867  0.318975  \n",
       "4   0.977045  0.195734  0.845131  0.350207  0.726597  0.775345  "
      ]
     },
     "execution_count": 184,
     "metadata": {},
     "output_type": "execute_result"
    }
   ],
   "source": [
    "df"
   ]
  },
  {
   "cell_type": "code",
   "execution_count": 186,
   "metadata": {},
   "outputs": [
    {
     "data": {
      "text/plain": [
       "array([[1.        , 0.        , 0.        , 0.77130775, 0.86821302,\n",
       "        0.90504351, 0.69953559, 0.45514447, 0.45704345, 0.02988889,\n",
       "        0.67393916, 0.21067237, 0.46108469],\n",
       "       [0.        , 1.        , 0.        , 0.54302091, 0.13012379,\n",
       "        0.64177825, 0.3596049 , 0.39564496, 0.96794346, 0.20738776,\n",
       "        0.0782844 , 0.13415424, 0.6349547 ],\n",
       "       [0.        , 1.        , 0.        , 0.25984567, 0.92189175,\n",
       "        0.65275946, 0.19564906, 0.79705659, 0.90713067, 0.79475346,\n",
       "        0.00290762, 0.84928166, 0.89934586],\n",
       "       [0.        , 1.        , 0.        , 0.16107494, 0.59214063,\n",
       "        0.88136548, 0.01949851, 0.91647924, 0.02810239, 0.64925487,\n",
       "        0.88164226, 0.35086718, 0.31897475],\n",
       "       [0.        , 0.        , 1.        , 0.26502925, 0.05306534,\n",
       "        0.76537894, 0.54481485, 0.9770452 , 0.19573429, 0.84513094,\n",
       "        0.35020703, 0.72659734, 0.77534496]])"
      ]
     },
     "execution_count": 186,
     "metadata": {},
     "output_type": "execute_result"
    }
   ],
   "source": [
    "df.values"
   ]
  },
  {
   "cell_type": "code",
   "execution_count": 187,
   "metadata": {},
   "outputs": [],
   "source": [
    "# init the topk\n",
    "topk = tfrs.layers.factorized_top_k.BruteForce(k=2)\n",
    "# create the index for the topk NN model\n",
    "topk = topk.index(df.values)"
   ]
  },
  {
   "cell_type": "code",
   "execution_count": 188,
   "metadata": {},
   "outputs": [
    {
     "data": {
      "text/plain": [
       "<tf.Tensor: shape=(1, 13), dtype=float64, numpy=\n",
       "array([[0.        , 1.        , 0.        , 0.38011464, 0.09108665,\n",
       "        0.44924477, 0.25172343, 0.27695147, 0.67756042, 0.14517143,\n",
       "        0.05479908, 0.09390797, 0.44446829]])>"
      ]
     },
     "execution_count": 188,
     "metadata": {},
     "output_type": "execute_result"
    }
   ],
   "source": [
    "# create a query\n",
    "is_drawing = 0\n",
    "is_print = 1\n",
    "is_sculpture = 0\n",
    "handmade_features = [is_drawing, is_print, is_sculpture]\n",
    "calculated_features = embeddings[1,:] *.7\n",
    "query_1 = np.hstack((handmade_features, calculated_features)).astype(np.float64)\n",
    "query_1 = tf.constant(np.array([query_1,]), dtype=np.float64)\n",
    "k=2\n",
    "query_1"
   ]
  },
  {
   "cell_type": "code",
   "execution_count": 189,
   "metadata": {},
   "outputs": [
    {
     "data": {
      "text/plain": [
       "(<tf.Tensor: shape=(1, 2), dtype=float64, numpy=array([[2.9556431 , 2.69172594]])>,\n",
       " <tf.Tensor: shape=(1, 2), dtype=int32, numpy=array([[2, 1]], dtype=int32)>)"
      ]
     },
     "execution_count": 189,
     "metadata": {},
     "output_type": "execute_result"
    }
   ],
   "source": [
    "# get the brute force top k results\n",
    "topk.call(query_1, k=k)"
   ]
  },
  {
   "cell_type": "code",
   "execution_count": 190,
   "metadata": {},
   "outputs": [
    {
     "data": {
      "text/plain": [
       "(<tf.Tensor: shape=(1, 2), dtype=float64, numpy=array([[2.9556431 , 2.10617128]])>,\n",
       " <tf.Tensor: shape=(1, 2), dtype=int32, numpy=array([[2, 3]], dtype=int32)>)"
      ]
     },
     "execution_count": 190,
     "metadata": {},
     "output_type": "execute_result"
    }
   ],
   "source": [
    "# create a query with exclusions\n",
    "exclusions=tf.constant([[1]])\n",
    "top_k_with_exclusions(topk, query_1, exclusions, k)"
   ]
  }
 ],
 "metadata": {
  "kernelspec": {
   "display_name": "Python 3",
   "language": "python",
   "name": "python3"
  },
  "language_info": {
   "codemirror_mode": {
    "name": "ipython",
    "version": 3
   },
   "file_extension": ".py",
   "mimetype": "text/x-python",
   "name": "python",
   "nbconvert_exporter": "python",
   "pygments_lexer": "ipython3",
   "version": "3.8.5"
  }
 },
 "nbformat": 4,
 "nbformat_minor": 4
}
