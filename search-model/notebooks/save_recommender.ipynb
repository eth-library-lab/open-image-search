{
 "cells": [
  {
   "cell_type": "markdown",
   "id": "16d6e25b",
   "metadata": {},
   "source": [
    "# Save recommender\n"
   ]
  },
  {
   "cell_type": "code",
   "execution_count": 1,
   "id": "8371bd0b",
   "metadata": {},
   "outputs": [],
   "source": [
    "import pandas as pd\n",
    "import os, sys\n",
    "\n",
    "import tensorflow as tf\n",
    "import tensorflow_datasets as tfds\n",
    "import tensorflow_recommenders as tfrs\n",
    "from tensorflow.keras.applications.xception import preprocess_input\n",
    "from tensorflow.keras.preprocessing import image\n",
    "from typing import Union, Optional, Tuple, Dict, Text\n",
    "\n",
    "from PIL import Image\n",
    "import matplotlib.pyplot as plt \n",
    "from time import time\n",
    "import numpy as np\n",
    "\n",
    "sys.path.append('../src')\n",
    "\n",
    "import settings\n",
    "import utils\n",
    "from preprocess_images import resize_image\n",
    "from utils_tf import ImageNormalizer, parse_image_func\n",
    "\n"
   ]
  },
  {
   "cell_type": "code",
   "execution_count": 2,
   "id": "e88d7edf",
   "metadata": {},
   "outputs": [],
   "source": [
    "def create_retrieval_model(query_model, features, indentifiers, verbose=1):\n",
    "    \"\"\"\n",
    "    query_model: tensorflow model used to calculate features from the input\n",
    "    features: np.array, feature vectors to create index for\n",
    "    indentifier_ids: np.array, integer id for each feature\n",
    "    \"\"\"\n",
    "\n",
    "    # newInput = Input(batch_shape=(1,128,128,3))\n",
    "    # newOutputs = oldModel(newInput)\n",
    "    # newModel = Model(newInput,newOutputs)\n",
    "    \n",
    "    # Create a model that takes in raw query features and returns ids\n",
    "    retrieval_model = tfrs.layers.factorized_top_k.BruteForce(query_model=ftx_model)\n",
    "    # retrieval_model = tfrs.layers.factorized_top_k.ScaNN(query_model=ftx_model)  \n",
    "\n",
    "    # create the retrieval index\n",
    "    candidates = tf.constant(features, dtype=tf.float32)\n",
    "    identifiers = tf.constant(indentifiers, dtype=tf.int32)\n",
    "    \n",
    "    if verbose:\n",
    "        t0=time()\n",
    "        print(\"creating feature index\")\n",
    "        \n",
    "    retrieval_model.index(candidates, identifiers)\n",
    "\n",
    "    if verbose:\n",
    "        t_delta= time() - t0\n",
    "        print(\"created feature index in {:.3}s\".format(t_delta))\n",
    "        \n",
    "    retrieval_model.compile()\n",
    "    \n",
    "    return retrieval_model\n",
    "\n",
    "class RetrievalExclusionModel(tf.keras.Model):\n",
    "    \n",
    "    def __init__(self, retrieval_model):\n",
    "        super(RetrievalExclusionModel, self).__init__(name='retrieval_exclusion')\n",
    "#         super(tfrs.layers.factorized_top_k.BruteForce, retrieval_model).__init__(k=1000)\n",
    "        self.model = retrieval_model\n",
    "\n",
    "    def call(self,\n",
    "             queries: Union[tf.Tensor, Dict[Text, tf.Tensor]],\n",
    "             exclusions: tf.Tensor,\n",
    "             k: Optional[int] = None\n",
    "            ) -> Tuple[tf.Tensor, tf.Tensor]:\n",
    "\n",
    "        return self.model.query_with_exclusions(\n",
    "            queries,\n",
    "            exclusions,\n",
    "            k=k)"
   ]
  },
  {
   "cell_type": "markdown",
   "id": "9cc1aad2",
   "metadata": {},
   "source": [
    "\n",
    "# load features dataset"
   ]
  },
  {
   "cell_type": "code",
   "execution_count": 3,
   "id": "e300cb4e",
   "metadata": {},
   "outputs": [],
   "source": [
    "# should eventually be a call to the feature store with all features\n",
    "\n",
    "fpath_feat = \"../data/processed/ethz/features/features_prod.csv\"\n",
    "fpath_feat = \"../data/processed/ethz/features/features_vgg16_imagenet.csv\"\n",
    "fpath_feat = settings.interim_features_fpath\n",
    "df_feat = pd.read_csv(fpath_feat, header=None, index_col=0)\n",
    "# df_feat.index = df_feat.reset_index()[0].str.rsplit('/', n=1, expand=True)[1].str.split('.', expand=True)[0]"
   ]
  },
  {
   "cell_type": "code",
   "execution_count": 4,
   "id": "8e69427f",
   "metadata": {},
   "outputs": [
    {
     "data": {
      "text/html": [
       "<div>\n",
       "<style scoped>\n",
       "    .dataframe tbody tr th:only-of-type {\n",
       "        vertical-align: middle;\n",
       "    }\n",
       "\n",
       "    .dataframe tbody tr th {\n",
       "        vertical-align: top;\n",
       "    }\n",
       "\n",
       "    .dataframe thead th {\n",
       "        text-align: right;\n",
       "    }\n",
       "</style>\n",
       "<table border=\"1\" class=\"dataframe\">\n",
       "  <thead>\n",
       "    <tr style=\"text-align: right;\">\n",
       "      <th></th>\n",
       "      <th>1</th>\n",
       "      <th>2</th>\n",
       "      <th>3</th>\n",
       "      <th>4</th>\n",
       "      <th>5</th>\n",
       "      <th>6</th>\n",
       "      <th>7</th>\n",
       "      <th>8</th>\n",
       "      <th>9</th>\n",
       "      <th>10</th>\n",
       "      <th>...</th>\n",
       "      <th>503</th>\n",
       "      <th>504</th>\n",
       "      <th>505</th>\n",
       "      <th>506</th>\n",
       "      <th>507</th>\n",
       "      <th>508</th>\n",
       "      <th>509</th>\n",
       "      <th>510</th>\n",
       "      <th>511</th>\n",
       "      <th>512</th>\n",
       "    </tr>\n",
       "    <tr>\n",
       "      <th>0</th>\n",
       "      <th></th>\n",
       "      <th></th>\n",
       "      <th></th>\n",
       "      <th></th>\n",
       "      <th></th>\n",
       "      <th></th>\n",
       "      <th></th>\n",
       "      <th></th>\n",
       "      <th></th>\n",
       "      <th></th>\n",
       "      <th></th>\n",
       "      <th></th>\n",
       "      <th></th>\n",
       "      <th></th>\n",
       "      <th></th>\n",
       "      <th></th>\n",
       "      <th></th>\n",
       "      <th></th>\n",
       "      <th></th>\n",
       "      <th></th>\n",
       "      <th></th>\n",
       "    </tr>\n",
       "  </thead>\n",
       "  <tbody>\n",
       "    <tr>\n",
       "      <th>45</th>\n",
       "      <td>1.278160</td>\n",
       "      <td>-0.537483</td>\n",
       "      <td>-0.472350</td>\n",
       "      <td>-0.537483</td>\n",
       "      <td>0.034347</td>\n",
       "      <td>-0.537483</td>\n",
       "      <td>1.015284</td>\n",
       "      <td>-0.081596</td>\n",
       "      <td>-0.537483</td>\n",
       "      <td>-0.537483</td>\n",
       "      <td>...</td>\n",
       "      <td>2.514417</td>\n",
       "      <td>0.659585</td>\n",
       "      <td>2.061240</td>\n",
       "      <td>1.695784</td>\n",
       "      <td>-0.496330</td>\n",
       "      <td>0.453798</td>\n",
       "      <td>-0.204791</td>\n",
       "      <td>-0.537483</td>\n",
       "      <td>1.158801</td>\n",
       "      <td>-0.537483</td>\n",
       "    </tr>\n",
       "    <tr>\n",
       "      <th>14</th>\n",
       "      <td>0.460464</td>\n",
       "      <td>-0.625154</td>\n",
       "      <td>0.868512</td>\n",
       "      <td>-0.625154</td>\n",
       "      <td>-0.074449</td>\n",
       "      <td>-0.625154</td>\n",
       "      <td>-0.551687</td>\n",
       "      <td>0.640191</td>\n",
       "      <td>-0.625154</td>\n",
       "      <td>-0.278555</td>\n",
       "      <td>...</td>\n",
       "      <td>2.163763</td>\n",
       "      <td>0.375413</td>\n",
       "      <td>0.701478</td>\n",
       "      <td>-0.164618</td>\n",
       "      <td>-0.625154</td>\n",
       "      <td>0.341491</td>\n",
       "      <td>0.100585</td>\n",
       "      <td>-0.625154</td>\n",
       "      <td>0.345961</td>\n",
       "      <td>-0.625154</td>\n",
       "    </tr>\n",
       "    <tr>\n",
       "      <th>38</th>\n",
       "      <td>0.980850</td>\n",
       "      <td>-0.605384</td>\n",
       "      <td>2.647279</td>\n",
       "      <td>-0.586764</td>\n",
       "      <td>-0.046301</td>\n",
       "      <td>-0.605384</td>\n",
       "      <td>-0.582565</td>\n",
       "      <td>-0.363907</td>\n",
       "      <td>-0.600323</td>\n",
       "      <td>-0.425349</td>\n",
       "      <td>...</td>\n",
       "      <td>2.382428</td>\n",
       "      <td>0.227565</td>\n",
       "      <td>2.002508</td>\n",
       "      <td>1.117089</td>\n",
       "      <td>-0.605384</td>\n",
       "      <td>0.565846</td>\n",
       "      <td>0.149249</td>\n",
       "      <td>-0.605384</td>\n",
       "      <td>0.671368</td>\n",
       "      <td>-0.605384</td>\n",
       "    </tr>\n",
       "    <tr>\n",
       "      <th>39</th>\n",
       "      <td>0.399487</td>\n",
       "      <td>-0.658273</td>\n",
       "      <td>1.834416</td>\n",
       "      <td>-0.658273</td>\n",
       "      <td>0.302372</td>\n",
       "      <td>-0.658273</td>\n",
       "      <td>-0.658273</td>\n",
       "      <td>1.143668</td>\n",
       "      <td>-0.228408</td>\n",
       "      <td>0.323886</td>\n",
       "      <td>...</td>\n",
       "      <td>1.623483</td>\n",
       "      <td>0.372375</td>\n",
       "      <td>1.465401</td>\n",
       "      <td>0.152884</td>\n",
       "      <td>-0.292466</td>\n",
       "      <td>0.700060</td>\n",
       "      <td>0.283394</td>\n",
       "      <td>-0.658273</td>\n",
       "      <td>0.821180</td>\n",
       "      <td>-0.658273</td>\n",
       "    </tr>\n",
       "    <tr>\n",
       "      <th>4</th>\n",
       "      <td>0.030097</td>\n",
       "      <td>-0.573394</td>\n",
       "      <td>2.056915</td>\n",
       "      <td>-0.273460</td>\n",
       "      <td>-0.138714</td>\n",
       "      <td>-0.573394</td>\n",
       "      <td>-0.573394</td>\n",
       "      <td>-0.167642</td>\n",
       "      <td>-0.573394</td>\n",
       "      <td>-0.573394</td>\n",
       "      <td>...</td>\n",
       "      <td>2.493513</td>\n",
       "      <td>0.691878</td>\n",
       "      <td>1.123662</td>\n",
       "      <td>0.455400</td>\n",
       "      <td>-0.531459</td>\n",
       "      <td>0.494927</td>\n",
       "      <td>0.082469</td>\n",
       "      <td>-0.573394</td>\n",
       "      <td>0.582864</td>\n",
       "      <td>-0.573394</td>\n",
       "    </tr>\n",
       "  </tbody>\n",
       "</table>\n",
       "<p>5 rows × 512 columns</p>\n",
       "</div>"
      ],
      "text/plain": [
       "         1         2         3         4         5         6         7    \\\n",
       "0                                                                          \n",
       "45  1.278160 -0.537483 -0.472350 -0.537483  0.034347 -0.537483  1.015284   \n",
       "14  0.460464 -0.625154  0.868512 -0.625154 -0.074449 -0.625154 -0.551687   \n",
       "38  0.980850 -0.605384  2.647279 -0.586764 -0.046301 -0.605384 -0.582565   \n",
       "39  0.399487 -0.658273  1.834416 -0.658273  0.302372 -0.658273 -0.658273   \n",
       "4   0.030097 -0.573394  2.056915 -0.273460 -0.138714 -0.573394 -0.573394   \n",
       "\n",
       "         8         9         10   ...       503       504       505       506  \\\n",
       "0                                 ...                                           \n",
       "45 -0.081596 -0.537483 -0.537483  ...  2.514417  0.659585  2.061240  1.695784   \n",
       "14  0.640191 -0.625154 -0.278555  ...  2.163763  0.375413  0.701478 -0.164618   \n",
       "38 -0.363907 -0.600323 -0.425349  ...  2.382428  0.227565  2.002508  1.117089   \n",
       "39  1.143668 -0.228408  0.323886  ...  1.623483  0.372375  1.465401  0.152884   \n",
       "4  -0.167642 -0.573394 -0.573394  ...  2.493513  0.691878  1.123662  0.455400   \n",
       "\n",
       "         507       508       509       510       511       512  \n",
       "0                                                               \n",
       "45 -0.496330  0.453798 -0.204791 -0.537483  1.158801 -0.537483  \n",
       "14 -0.625154  0.341491  0.100585 -0.625154  0.345961 -0.625154  \n",
       "38 -0.605384  0.565846  0.149249 -0.605384  0.671368 -0.605384  \n",
       "39 -0.292466  0.700060  0.283394 -0.658273  0.821180 -0.658273  \n",
       "4  -0.531459  0.494927  0.082469 -0.573394  0.582864 -0.573394  \n",
       "\n",
       "[5 rows x 512 columns]"
      ]
     },
     "execution_count": 4,
     "metadata": {},
     "output_type": "execute_result"
    }
   ],
   "source": [
    "df_feat.head()"
   ]
  },
  {
   "cell_type": "code",
   "execution_count": 5,
   "id": "a099a051",
   "metadata": {},
   "outputs": [
    {
     "data": {
      "text/plain": [
       "49"
      ]
     },
     "execution_count": 5,
     "metadata": {},
     "output_type": "execute_result"
    }
   ],
   "source": [
    "max(df_feat.index)"
   ]
  },
  {
   "cell_type": "code",
   "execution_count": 6,
   "id": "af6aebc3",
   "metadata": {},
   "outputs": [
    {
     "data": {
      "text/plain": [
       "50"
      ]
     },
     "execution_count": 6,
     "metadata": {},
     "output_type": "execute_result"
    }
   ],
   "source": [
    "len(df_feat.index)"
   ]
  },
  {
   "cell_type": "code",
   "execution_count": 7,
   "id": "96f1ab09",
   "metadata": {},
   "outputs": [
    {
     "name": "stdout",
     "output_type": "stream",
     "text": [
      "WARNING:tensorflow:SavedModel saved prior to TF 2.5 detected when loading Keras model. Please ensure that you are saving the model with model.save() or tf.keras.models.save_model(), *NOT* tf.saved_model.save(). To confirm, there should be a file named \"keras_metadata.pb\" in the SavedModel directory.\n"
     ]
    }
   ],
   "source": [
    "# load the trained feature extraction model\n",
    "# fpath_model = \"../models/feature_extraction/202109081606\"\n",
    "fpath_model = \"../models/feature_extraction/2\"\n",
    "ftx_model = tf.keras.models.load_model(fpath_model)"
   ]
  },
  {
   "cell_type": "code",
   "execution_count": 8,
   "id": "0bd4f212",
   "metadata": {},
   "outputs": [
    {
     "name": "stdout",
     "output_type": "stream",
     "text": [
      "creating feature index\n",
      "created feature index in 0.00479s\n"
     ]
    }
   ],
   "source": [
    "# create the retrieval model\n",
    "retrieval_model = create_retrieval_model(query_model=ftx_model, \n",
    "                                         features=df_feat.values, \n",
    "                                         indentifiers=df_feat.index)\n",
    "                                         \n",
    "# create the retireval exclusion model\n",
    "retrieval_exclusion_model = RetrievalExclusionModel(retrieval_model)"
   ]
  },
  {
   "cell_type": "markdown",
   "id": "056df4ec",
   "metadata": {},
   "source": [
    "# test the retrieval"
   ]
  },
  {
   "cell_type": "code",
   "execution_count": null,
   "id": "8815ee52",
   "metadata": {},
   "outputs": [],
   "source": []
  },
  {
   "cell_type": "code",
   "execution_count": 51,
   "id": "2d23fa80",
   "metadata": {},
   "outputs": [],
   "source": [
    "def plot_image_from_fpath(fpath):\n",
    "\n",
    "    img = Image.open(fpath)\n",
    "    plt.imshow(img)\n",
    "    plt.show()\n",
    "    \n",
    "    return\n",
    "\n",
    "def print_list_of_ids(list_of_ids, max_to_print=10):\n",
    "\n",
    "    for _id in list_of_ids[:max_to_print]:\n",
    "        image_path= utils.make_fpath_from_id(_id, image_fldr)\n",
    "        print(image_path)\n",
    "        plot_image_from_fpath(image_path)\n",
    "        \n",
    "\n",
    "def preprocess_img(image_path_or_stream):\n",
    "\n",
    "    img = Image.open(image_path_or_stream)\n",
    "    img = img.convert(\"RGB\")\n",
    "    size = 224, 224\n",
    "    img = resize_image(img, size[0])\n",
    "    img = img.resize(size, Image.ANTIALIAS)\n",
    "\n",
    "    return img\n",
    "\n",
    "def create_image_query_from_fpath(image_path):\n",
    "    \n",
    "    img = preprocess_img(image_path)\n",
    "    img = np.array(img) /255\n",
    "    x = tf.constant(img)\n",
    "    x = tf.expand_dims(img, axis=0)\n",
    "    return x\n"
   ]
  },
  {
   "cell_type": "code",
   "execution_count": 11,
   "id": "bbc58048",
   "metadata": {},
   "outputs": [],
   "source": [
    "# load metadata for test purposes\n",
    "fpath_meta = os.path.join(settings.processed_metadata_dir, 'metadata.csv')\n",
    "df_meta = pd.read_csv(fpath_meta, index_col=0)"
   ]
  },
  {
   "cell_type": "code",
   "execution_count": 35,
   "id": "25649788",
   "metadata": {},
   "outputs": [
    {
     "data": {
      "text/plain": [
       "0"
      ]
     },
     "execution_count": 35,
     "metadata": {},
     "output_type": "execute_result"
    }
   ],
   "source": [
    "df_meta[\"fpath\"].isna().sum()"
   ]
  },
  {
   "cell_type": "code",
   "execution_count": 49,
   "id": "d01743e7",
   "metadata": {},
   "outputs": [],
   "source": [
    "\n",
    "test_id=0\n",
    "def test_an_id(id_num, retrieval_model, retrieval_exclusion_model):\n",
    "    image_fldr = settings.processed_image_dir\n",
    "    image_path = df_meta.loc[test_id,'fpath'].replace(\".png\",\".jpeg\")\n",
    "    \n",
    "    print(image_path)\n",
    "    plot_image_from_fpath(image_path)\n",
    "\n",
    "\n",
    "    x = create_image_query_from_fpath(image_path)\n",
    "    features = ftx_model(x)\n",
    "\n",
    "    scores, identifiers = retrieval_model(x,k=10)\n",
    "    id_list = identifiers.numpy()[0][:10]\n",
    "\n",
    "    assert id_list[0] == test_id, \"first returned result should be the query image's id\"\n",
    "    print_list_of_ids(id_list)\n",
    "\n",
    "    scores, identifiers = retrieval_exclusion_model(x,exclusions=identifiers,k=10)\n",
    "    id_list = identifiers.numpy()[0][:10]\n",
    "    assert test_id not in id_list, \"test_id should not be in returned list when calling retrieval with exclusions\" \n",
    "    print_list_of_ids(id_list)\n",
    "    \n",
    "    return\n",
    "    "
   ]
  },
  {
   "cell_type": "code",
   "execution_count": 50,
   "id": "8b911ef1",
   "metadata": {},
   "outputs": [
    {
     "name": "stdout",
     "output_type": "stream",
     "text": [
      "/home/barry/projects/open-image-search/search-model/data/processed/test_set/images/0/0.jpeg\n"
     ]
    },
    {
     "data": {
      "image/png": "[encoded data removed]",
      "text/plain": [
       "<Figure size 432x288 with 1 Axes>"
      ]
     },
     "metadata": {
      "needs_background": "light"
     },
     "output_type": "display_data"
    },
    {
     "ename": "NameError",
     "evalue": "name 'create_image_query_from_fpath' is not defined",
     "output_type": "error",
     "traceback": [
      "\u001b[0;31m---------------------------------------------------------------------------\u001b[0m",
      "\u001b[0;31mNameError\u001b[0m                                 Traceback (most recent call last)",
      "\u001b[0;32m<ipython-input-50-20ce33783579>\u001b[0m in \u001b[0;36m<module>\u001b[0;34m\u001b[0m\n\u001b[0;32m----> 1\u001b[0;31m \u001b[0mtest_an_id\u001b[0m\u001b[0;34m(\u001b[0m\u001b[0;36m0\u001b[0m\u001b[0;34m,\u001b[0m \u001b[0mretrieval_model\u001b[0m\u001b[0;34m,\u001b[0m \u001b[0mretrieval_exclusion_model\u001b[0m\u001b[0;34m)\u001b[0m\u001b[0;34m\u001b[0m\u001b[0;34m\u001b[0m\u001b[0m\n\u001b[0m",
      "\u001b[0;32m<ipython-input-49-b087325470f7>\u001b[0m in \u001b[0;36mtest_an_id\u001b[0;34m(id_num, retrieval_model, retrieval_exclusion_model)\u001b[0m\n\u001b[1;32m      8\u001b[0m \u001b[0;34m\u001b[0m\u001b[0m\n\u001b[1;32m      9\u001b[0m \u001b[0;34m\u001b[0m\u001b[0m\n\u001b[0;32m---> 10\u001b[0;31m     \u001b[0mx\u001b[0m \u001b[0;34m=\u001b[0m \u001b[0mcreate_image_query_from_fpath\u001b[0m\u001b[0;34m(\u001b[0m\u001b[0mimage_path\u001b[0m\u001b[0;34m)\u001b[0m\u001b[0;34m\u001b[0m\u001b[0;34m\u001b[0m\u001b[0m\n\u001b[0m\u001b[1;32m     11\u001b[0m     \u001b[0mfeatures\u001b[0m \u001b[0;34m=\u001b[0m \u001b[0mftx_model\u001b[0m\u001b[0;34m(\u001b[0m\u001b[0mx\u001b[0m\u001b[0;34m)\u001b[0m\u001b[0;34m\u001b[0m\u001b[0;34m\u001b[0m\u001b[0m\n\u001b[1;32m     12\u001b[0m \u001b[0;34m\u001b[0m\u001b[0m\n",
      "\u001b[0;31mNameError\u001b[0m: name 'create_image_query_from_fpath' is not defined"
     ]
    }
   ],
   "source": [
    "test_an_id(0, retrieval_model, retrieval_exclusion_model)"
   ]
  },
  {
   "cell_type": "code",
   "execution_count": 31,
   "id": "9e613a26",
   "metadata": {},
   "outputs": [
    {
     "name": "stdout",
     "output_type": "stream",
     "text": [
      "INFO:tensorflow:Assets written to: ../models/retrieval/2/assets\n",
      "INFO:tensorflow:Assets written to: ../models/retrieval_exclusion/2/assets\n"
     ]
    }
   ],
   "source": [
    "# save the retrieval model\n",
    "save_options = tf.saved_model.SaveOptions(namespace_whitelist=[\"Scann\",])\n",
    "retrieval_model.save(\"../models/retrieval/2\",options=save_options)\n",
    "\n",
    "# save the retrieval exclusion model\n",
    "# if using scann, a custom op needs to be whitelisted\n",
    "save_options = tf.saved_model.SaveOptions(namespace_whitelist=[\"Scann\",])\n",
    "retrieval_exclusion_model.save(\"../models/retrieval_exclusion/2\",options=save_options)"
   ]
  },
  {
   "cell_type": "code",
   "execution_count": null,
   "id": "257f7dac",
   "metadata": {},
   "outputs": [],
   "source": []
  }
 ],
 "metadata": {
  "kernelspec": {
   "display_name": "Python 3",
   "language": "python",
   "name": "python3"
  },
  "language_info": {
   "codemirror_mode": {
    "name": "ipython",
    "version": 3
   },
   "file_extension": ".py",
   "mimetype": "text/x-python",
   "name": "python",
   "nbconvert_exporter": "python",
   "pygments_lexer": "ipython3",
   "version": "3.8.10"
  }
 },
 "nbformat": 4,
 "nbformat_minor": 5
}
